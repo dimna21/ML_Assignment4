{
  "cells": [
    {
      "cell_type": "markdown",
      "metadata": {
        "id": "view-in-github",
        "colab_type": "text"
      },
      "source": [
        "<a href=\"https://colab.research.google.com/github/dimna21/ML_Assignment4/blob/main/FER2013.ipynb\" target=\"_parent\"><img src=\"https://colab.research.google.com/assets/colab-badge.svg\" alt=\"Open In Colab\"/></a>"
      ]
    },
    {
      "cell_type": "code",
      "source": [
        "!pip install wandb"
      ],
      "metadata": {
        "id": "3ZLXW_6vaKhx",
        "outputId": "3bc9d08f-5b76-4a02-de84-d30894ac7588",
        "colab": {
          "base_uri": "https://localhost:8080/"
        }
      },
      "id": "3ZLXW_6vaKhx",
      "execution_count": 20,
      "outputs": [
        {
          "output_type": "stream",
          "name": "stdout",
          "text": [
            "Requirement already satisfied: wandb in /usr/local/lib/python3.11/dist-packages (0.19.11)\n",
            "Requirement already satisfied: click!=8.0.0,>=7.1 in /usr/local/lib/python3.11/dist-packages (from wandb) (8.2.1)\n",
            "Requirement already satisfied: docker-pycreds>=0.4.0 in /usr/local/lib/python3.11/dist-packages (from wandb) (0.4.0)\n",
            "Requirement already satisfied: gitpython!=3.1.29,>=1.0.0 in /usr/local/lib/python3.11/dist-packages (from wandb) (3.1.44)\n",
            "Requirement already satisfied: platformdirs in /usr/local/lib/python3.11/dist-packages (from wandb) (4.3.8)\n",
            "Requirement already satisfied: protobuf!=4.21.0,!=5.28.0,<7,>=3.19.0 in /usr/local/lib/python3.11/dist-packages (from wandb) (5.29.4)\n",
            "Requirement already satisfied: psutil>=5.0.0 in /usr/local/lib/python3.11/dist-packages (from wandb) (5.9.5)\n",
            "Requirement already satisfied: pydantic<3 in /usr/local/lib/python3.11/dist-packages (from wandb) (2.11.4)\n",
            "Requirement already satisfied: pyyaml in /usr/local/lib/python3.11/dist-packages (from wandb) (6.0.2)\n",
            "Requirement already satisfied: requests<3,>=2.0.0 in /usr/local/lib/python3.11/dist-packages (from wandb) (2.32.3)\n",
            "Requirement already satisfied: sentry-sdk>=2.0.0 in /usr/local/lib/python3.11/dist-packages (from wandb) (2.29.1)\n",
            "Requirement already satisfied: setproctitle in /usr/local/lib/python3.11/dist-packages (from wandb) (1.3.6)\n",
            "Requirement already satisfied: setuptools in /usr/local/lib/python3.11/dist-packages (from wandb) (75.2.0)\n",
            "Requirement already satisfied: typing-extensions<5,>=4.4 in /usr/local/lib/python3.11/dist-packages (from wandb) (4.13.2)\n",
            "Requirement already satisfied: six>=1.4.0 in /usr/local/lib/python3.11/dist-packages (from docker-pycreds>=0.4.0->wandb) (1.17.0)\n",
            "Requirement already satisfied: gitdb<5,>=4.0.1 in /usr/local/lib/python3.11/dist-packages (from gitpython!=3.1.29,>=1.0.0->wandb) (4.0.12)\n",
            "Requirement already satisfied: annotated-types>=0.6.0 in /usr/local/lib/python3.11/dist-packages (from pydantic<3->wandb) (0.7.0)\n",
            "Requirement already satisfied: pydantic-core==2.33.2 in /usr/local/lib/python3.11/dist-packages (from pydantic<3->wandb) (2.33.2)\n",
            "Requirement already satisfied: typing-inspection>=0.4.0 in /usr/local/lib/python3.11/dist-packages (from pydantic<3->wandb) (0.4.1)\n",
            "Requirement already satisfied: charset-normalizer<4,>=2 in /usr/local/lib/python3.11/dist-packages (from requests<3,>=2.0.0->wandb) (3.4.2)\n",
            "Requirement already satisfied: idna<4,>=2.5 in /usr/local/lib/python3.11/dist-packages (from requests<3,>=2.0.0->wandb) (3.10)\n",
            "Requirement already satisfied: urllib3<3,>=1.21.1 in /usr/local/lib/python3.11/dist-packages (from requests<3,>=2.0.0->wandb) (2.4.0)\n",
            "Requirement already satisfied: certifi>=2017.4.17 in /usr/local/lib/python3.11/dist-packages (from requests<3,>=2.0.0->wandb) (2025.4.26)\n",
            "Requirement already satisfied: smmap<6,>=3.0.1 in /usr/local/lib/python3.11/dist-packages (from gitdb<5,>=4.0.1->gitpython!=3.1.29,>=1.0.0->wandb) (5.0.2)\n"
          ]
        }
      ]
    },
    {
      "cell_type": "code",
      "source": [
        "from google.colab import drive\n",
        "drive.mount('/content/drive')"
      ],
      "metadata": {
        "colab": {
          "base_uri": "https://localhost:8080/"
        },
        "id": "txE_ZZpJWh4M",
        "outputId": "ec1b8ad4-5862-4c62-c082-fc735575cd15"
      },
      "id": "txE_ZZpJWh4M",
      "execution_count": 1,
      "outputs": [
        {
          "output_type": "stream",
          "name": "stdout",
          "text": [
            "Mounted at /content/drive\n"
          ]
        }
      ]
    },
    {
      "cell_type": "code",
      "source": [
        "import pandas as pd\n",
        "import numpy as np\n",
        "import torch\n",
        "import torch.nn as nn\n",
        "from torch.utils.data import Dataset, DataLoader\n",
        "\n",
        "# 1) Load the CSV\n",
        "csv_path = \"/content/drive/MyDrive/FER_data/fer2013/fer2013.csv\"\n",
        "df = pd.read_csv(csv_path)\n",
        "\n",
        "# 2) Split by Usage\n",
        "df_train = df[df['Usage']==\"Training\"].copy()\n",
        "df_val   = df[df['Usage']==\"PublicTest\"].copy()\n",
        "df_test  = df[df['Usage']==\"PrivateTest\"].copy()"
      ],
      "metadata": {
        "id": "_kISQ9MWPnq9"
      },
      "id": "_kISQ9MWPnq9",
      "execution_count": 13,
      "outputs": []
    },
    {
      "cell_type": "code",
      "source": [
        "# 3) Balance function: upsample & random ±10 intensity shifts\n",
        "def balance_dataset(df, target_count, img_shape=(48,48)):\n",
        "    def augment(pix_str):\n",
        "        arr = np.fromstring(pix_str, sep=' ', dtype=int).reshape(img_shape)\n",
        "        shift = np.random.randint(-10, 11)\n",
        "        arr = np.clip(arr + shift, 0, 255).astype(int)\n",
        "        return ' '.join(map(str, arr.ravel()))\n",
        "    parts = [df]\n",
        "    for emo, grp in df.groupby('emotion'):\n",
        "        n = len(grp)\n",
        "        if n < target_count:\n",
        "            extra = grp.sample(n=target_count-n, replace=True).copy()\n",
        "            extra['pixels'] = extra['pixels'].map(augment)\n",
        "            parts.append(extra)\n",
        "    return pd.concat(parts, ignore_index=True)\n",
        "\n",
        "max_count = df_train['emotion'].value_counts().max()\n",
        "balanced_train = balance_dataset(df_train, target_count=max_count)"
      ],
      "metadata": {
        "id": "KvawHlnpW48u"
      },
      "id": "KvawHlnpW48u",
      "execution_count": 15,
      "outputs": []
    },
    {
      "cell_type": "code",
      "source": [
        "# 4) Dataset class\n",
        "class FERDataset(Dataset):\n",
        "    def __init__(self, dataframe):\n",
        "        self.pixels = dataframe['pixels'].values\n",
        "        self.labels = dataframe['emotion'].values.astype(int)\n",
        "    def __len__(self):\n",
        "        return len(self.labels)\n",
        "    def __getitem__(self, idx):\n",
        "        arr = np.fromstring(self.pixels[idx], sep=' ', dtype=np.uint8).reshape(48,48)\n",
        "        arr = arr.astype(np.float32) / 255.0\n",
        "        tensor = torch.from_numpy(arr).unsqueeze(0)  # shape [1,48,48]\n",
        "        return tensor, self.labels[idx]\n"
      ],
      "metadata": {
        "id": "h1q4nlYyXBxE"
      },
      "id": "h1q4nlYyXBxE",
      "execution_count": 16,
      "outputs": []
    },
    {
      "cell_type": "code",
      "source": [
        "# 5) Simple conv-based net: 5×Conv3×3 → Dropout → FC → FC\n",
        "class BaselineModel(nn.Module):\n",
        "    def __init__(self,\n",
        "                 in_channels: int = 1,\n",
        "                 conv_channels: int = 32,\n",
        "                 hidden_dim: int    = 256,\n",
        "                 num_classes: int   = 7,\n",
        "                 dropout_p: float   = 0.5):\n",
        "        super().__init__()\n",
        "        self.convs = nn.Sequential(\n",
        "            nn.Conv2d(in_channels,   conv_channels, kernel_size=3, padding=1),\n",
        "            nn.ReLU(inplace=True),\n",
        "            nn.Conv2d(conv_channels, conv_channels, kernel_size=3, padding=1),\n",
        "            nn.ReLU(inplace=True),\n",
        "            nn.Conv2d(conv_channels, conv_channels, kernel_size=3, padding=1),\n",
        "            nn.ReLU(inplace=True),\n",
        "        )\n",
        "        self.dropout = nn.Dropout(p=dropout_p)\n",
        "        self.flatten = nn.Flatten()\n",
        "        self.fc1 = nn.Linear(conv_channels * 48 * 48, hidden_dim)\n",
        "        self.relu = nn.ReLU(inplace=True)\n",
        "        self.fc2 = nn.Linear(hidden_dim, num_classes)\n",
        "\n",
        "    def forward(self, x):\n",
        "        x = self.convs(x)          # [B, conv_channels, 48, 48]\n",
        "        x = self.dropout(x)        # dropout on feature maps\n",
        "        x = self.flatten(x)        # [B, conv_channels*48*48]\n",
        "        x = self.fc1(x)\n",
        "        x = self.relu(x)\n",
        "        x = self.fc2(x)            # [B, num_classes]\n",
        "        return x\n",
        "\n",
        "# Example instantiation\n",
        "model = BaselineModel()\n",
        "print(model)"
      ],
      "metadata": {
        "colab": {
          "base_uri": "https://localhost:8080/"
        },
        "id": "bNHfuWGAXGqV",
        "outputId": "96af9283-0364-4feb-a49f-842a278624c3"
      },
      "id": "bNHfuWGAXGqV",
      "execution_count": 17,
      "outputs": [
        {
          "output_type": "stream",
          "name": "stdout",
          "text": [
            "BaselineModel(\n",
            "  (convs): Sequential(\n",
            "    (0): Conv2d(1, 32, kernel_size=(3, 3), stride=(1, 1), padding=(1, 1))\n",
            "    (1): ReLU(inplace=True)\n",
            "    (2): Conv2d(32, 32, kernel_size=(3, 3), stride=(1, 1), padding=(1, 1))\n",
            "    (3): ReLU(inplace=True)\n",
            "    (4): Conv2d(32, 32, kernel_size=(3, 3), stride=(1, 1), padding=(1, 1))\n",
            "    (5): ReLU(inplace=True)\n",
            "  )\n",
            "  (dropout): Dropout(p=0.5, inplace=False)\n",
            "  (flatten): Flatten(start_dim=1, end_dim=-1)\n",
            "  (fc1): Linear(in_features=73728, out_features=256, bias=True)\n",
            "  (relu): ReLU(inplace=True)\n",
            "  (fc2): Linear(in_features=256, out_features=7, bias=True)\n",
            ")\n"
          ]
        }
      ]
    },
    {
      "cell_type": "code",
      "source": [
        "# Check device\n",
        "device = torch.device(\"cuda\" if torch.cuda.is_available() else \"cpu\")\n",
        "print(\"Using device:\", device)"
      ],
      "metadata": {
        "colab": {
          "base_uri": "https://localhost:8080/"
        },
        "id": "v9JYy7z7YM0F",
        "outputId": "312a705f-aef7-4419-98cf-b7b76c60f8ab"
      },
      "id": "v9JYy7z7YM0F",
      "execution_count": 18,
      "outputs": [
        {
          "output_type": "stream",
          "name": "stdout",
          "text": [
            "Using device: cuda\n"
          ]
        }
      ]
    },
    {
      "cell_type": "code",
      "source": [
        "# Loss and optimizer\n",
        "criterion = nn.CrossEntropyLoss()\n",
        "optimizer = torch.optim.Adam(model.parameters(), lr=1e-3)\n",
        "\n",
        "# DataLoaders\n",
        "batch_size = 128\n",
        "train_ds = FERDataset(balanced_train)\n",
        "val_ds   = FERDataset(df_val)\n",
        "train_dl = DataLoader(train_ds, batch_size=batch_size, shuffle=True,  num_workers=2)\n",
        "val_dl   = DataLoader(val_ds,   batch_size=batch_size, shuffle=False, num_workers=2)\n"
      ],
      "metadata": {
        "id": "cqg0BQ4hY49l"
      },
      "id": "cqg0BQ4hY49l",
      "execution_count": 19,
      "outputs": []
    },
    {
      "cell_type": "code",
      "source": [
        "print(3)"
      ],
      "metadata": {
        "id": "ND7QYBjabdxZ",
        "outputId": "7eb8afaa-7d21-467b-dd22-90c916f9ea4b",
        "colab": {
          "base_uri": "https://localhost:8080/"
        }
      },
      "id": "ND7QYBjabdxZ",
      "execution_count": 25,
      "outputs": [
        {
          "output_type": "stream",
          "name": "stdout",
          "text": [
            "3\n"
          ]
        }
      ]
    },
    {
      "cell_type": "code",
      "source": [
        "import wandb\n",
        "import torch\n",
        "from tqdm import tqdm\n",
        "from sklearn.metrics import confusion_matrix, f1_score, accuracy_score\n",
        "\n",
        "def train_model(\n",
        "    model,\n",
        "    train_loader,\n",
        "    val_loader,\n",
        "    test_loader,           # new: DataLoader for your held-out test set\n",
        "    criterion,\n",
        "    optimizer,\n",
        "    device,\n",
        "    epochs=5,\n",
        "    class_names=None      # list of names for your classes\n",
        "):\n",
        "    wandb.init(\n",
        "        project=\"ML_Assignment4\",\n",
        "        config={\n",
        "            \"epochs\": epochs,\n",
        "            \"batch_size\": train_loader.batch_size,\n",
        "            \"optimizer\": optimizer.__class__.__name__,\n",
        "            \"lr\": optimizer.param_groups[0][\"lr\"],\n",
        "            \"criterion\": criterion.__class__.__name__,\n",
        "        }\n",
        "    )\n",
        "    cfg = wandb.config\n",
        "    wandb.watch(model, log=\"all\", log_freq=100)\n",
        "\n",
        "    history = {\"train_loss\": [], \"train_acc\": [], \"val_loss\": [], \"val_acc\": []}\n",
        "    model.to(device)\n",
        "\n",
        "    for epoch in range(1, cfg.epochs + 1):\n",
        "        # — TRAIN —\n",
        "        model.train()\n",
        "        tloss = 0.0\n",
        "        tcorrect = 0\n",
        "        for X, y in tqdm(train_loader, desc=f\"[Train] epoch {epoch}\"):\n",
        "            X, y = X.to(device), y.to(device)\n",
        "            optimizer.zero_grad()\n",
        "            logits = model(X)\n",
        "            loss = criterion(logits, y)\n",
        "            loss.backward()\n",
        "            optimizer.step()\n",
        "            tloss += loss.item() * X.size(0)\n",
        "            tcorrect += (logits.argmax(1) == y).sum().item()\n",
        "        train_loss = tloss / len(train_loader.dataset)\n",
        "        train_acc  = tcorrect / len(train_loader.dataset)\n",
        "        history[\"train_loss\"].append(train_loss)\n",
        "        history[\"train_acc\"].append(train_acc)\n",
        "\n",
        "        # — VALIDATE —\n",
        "        model.eval()\n",
        "        vloss = 0.0\n",
        "        vcorrect = 0\n",
        "        with torch.no_grad():\n",
        "            for X, y in tqdm(val_loader, desc=f\"[Val] epoch {epoch}\"):\n",
        "                X, y = X.to(device), y.to(device)\n",
        "                logits = model(X)\n",
        "                loss = criterion(logits, y)\n",
        "                vloss += loss.item() * X.size(0)\n",
        "                vcorrect += (logits.argmax(1) == y).sum().item()\n",
        "        val_loss = vloss / len(val_loader.dataset)\n",
        "        val_acc  = vcorrect / len(val_loader.dataset)\n",
        "        history[\"val_loss\"].append(val_loss)\n",
        "        history[\"val_acc\"].append(val_acc)\n",
        "\n",
        "        print(f\"Epoch {epoch}/{cfg.epochs} — \"\n",
        "              f\"Train loss {train_loss:.4f}, acc {train_acc:.4f} | \"\n",
        "              f\"Val loss {val_loss:.4f}, acc {val_acc:.4f}\")\n",
        "\n",
        "        wandb.log({\n",
        "            \"epoch\": epoch,\n",
        "            \"train/loss\": train_loss,\n",
        "            \"train/accuracy\": train_acc,\n",
        "            \"val/loss\": val_loss,\n",
        "            \"val/accuracy\": val_acc,\n",
        "        })\n",
        "\n",
        "    # — FINAL TEST EVAL —\n",
        "    if test_loader is not None:\n",
        "        model.eval()\n",
        "        preds, targets = [], []\n",
        "        with torch.no_grad():\n",
        "            for X, y in tqdm(test_loader, desc=\"[Test]\"):\n",
        "                X = X.to(device)\n",
        "                logits = model(X)\n",
        "                preds.extend(logits.argmax(1).cpu().tolist())\n",
        "                targets.extend(y.tolist())\n",
        "\n",
        "        test_acc = accuracy_score(targets, preds)\n",
        "        f1s = f1_score(targets, preds, average=None)\n",
        "        cm = confusion_matrix(targets, preds)\n",
        "\n",
        "        # log test accuracy\n",
        "        wandb.log({\"test/accuracy\": test_acc})\n",
        "\n",
        "        # log per-class F1\n",
        "        for idx, cls in enumerate(class_names or map(str, range(len(f1s)))):\n",
        "            wandb.log({f\"test/f1_{cls}\": f1s[idx]})\n",
        "\n",
        "        # log confusion matrix\n",
        "        wandb.log({\n",
        "            \"test/confusion_matrix\": wandb.plot.confusion_matrix(\n",
        "                probs=None,\n",
        "                y_true=targets,\n",
        "                preds=preds,\n",
        "                class_names=list(class_names or map(str, range(len(f1s))))\n",
        "            )\n",
        "        })\n",
        "\n",
        "        print(f\"Test Acc: {test_acc:.4f}\")\n",
        "        print(\"Test F1 per class:\", dict(zip(class_names or range(len(f1s)), f1s)))\n",
        "        print(\"Confusion matrix:\\n\", cm)\n",
        "\n",
        "    wandb.finish()\n",
        "    return history\n"
      ],
      "metadata": {
        "id": "yUaGVGmwYp9q"
      },
      "id": "yUaGVGmwYp9q",
      "execution_count": 10,
      "outputs": []
    },
    {
      "cell_type": "code",
      "source": [
        "device = torch.device(\"cuda\" if torch.cuda.is_available() else \"cpu\")\n",
        "model = BaselineModel().to(device)\n",
        "criterion = nn.CrossEntropyLoss()\n",
        "optimizer = torch.optim.Adam(model.parameters(), lr=1e-3)\n",
        "history = train_model(model, train_dl, val_dl, criterion, optimizer, device, epochs=5)"
      ],
      "metadata": {
        "colab": {
          "base_uri": "https://localhost:8080/"
        },
        "id": "cugPerutYuj7",
        "outputId": "9b153051-1fff-4504-c4d2-bb187854be8e"
      },
      "id": "cugPerutYuj7",
      "execution_count": 12,
      "outputs": [
        {
          "output_type": "stream",
          "name": "stderr",
          "text": [
            "Epoch 1 [Train]: 100%|██████████| 395/395 [00:12<00:00, 31.80it/s]\n",
            "Epoch 1 [Val]: 100%|██████████| 29/29 [00:00<00:00, 62.27it/s]\n"
          ]
        },
        {
          "output_type": "stream",
          "name": "stdout",
          "text": [
            "Epoch 1/5 — Train loss: 1.5308, acc: 0.4079 | Val loss: 1.4808, acc: 0.4269\n"
          ]
        },
        {
          "output_type": "stream",
          "name": "stderr",
          "text": [
            "Epoch 2 [Train]: 100%|██████████| 395/395 [00:11<00:00, 34.34it/s]\n",
            "Epoch 2 [Val]: 100%|██████████| 29/29 [00:00<00:00, 58.72it/s]\n"
          ]
        },
        {
          "output_type": "stream",
          "name": "stdout",
          "text": [
            "Epoch 2/5 — Train loss: 0.9942, acc: 0.6308 | Val loss: 1.4076, acc: 0.4820\n"
          ]
        },
        {
          "output_type": "stream",
          "name": "stderr",
          "text": [
            "Epoch 3 [Train]: 100%|██████████| 395/395 [00:11<00:00, 33.38it/s]\n",
            "Epoch 3 [Val]: 100%|██████████| 29/29 [00:00<00:00, 63.36it/s]\n"
          ]
        },
        {
          "output_type": "stream",
          "name": "stdout",
          "text": [
            "Epoch 3/5 — Train loss: 0.6299, acc: 0.7796 | Val loss: 1.6394, acc: 0.4667\n"
          ]
        },
        {
          "output_type": "stream",
          "name": "stderr",
          "text": [
            "Epoch 4 [Train]: 100%|██████████| 395/395 [00:11<00:00, 34.28it/s]\n",
            "Epoch 4 [Val]: 100%|██████████| 29/29 [00:00<00:00, 60.77it/s]\n"
          ]
        },
        {
          "output_type": "stream",
          "name": "stdout",
          "text": [
            "Epoch 4/5 — Train loss: 0.3615, acc: 0.8765 | Val loss: 1.8953, acc: 0.4884\n"
          ]
        },
        {
          "output_type": "stream",
          "name": "stderr",
          "text": [
            "Epoch 5 [Train]: 100%|██████████| 395/395 [00:11<00:00, 34.63it/s]\n",
            "Epoch 5 [Val]: 100%|██████████| 29/29 [00:00<00:00, 39.82it/s]"
          ]
        },
        {
          "output_type": "stream",
          "name": "stdout",
          "text": [
            "Epoch 5/5 — Train loss: 0.2114, acc: 0.9306 | Val loss: 2.3858, acc: 0.4865\n"
          ]
        },
        {
          "output_type": "stream",
          "name": "stderr",
          "text": [
            "\n"
          ]
        }
      ]
    }
  ],
  "metadata": {
    "colab": {
      "provenance": [],
      "gpuType": "T4",
      "include_colab_link": true
    },
    "language_info": {
      "name": "python"
    },
    "kernelspec": {
      "name": "python3",
      "display_name": "Python 3"
    },
    "accelerator": "GPU"
  },
  "nbformat": 4,
  "nbformat_minor": 5
}