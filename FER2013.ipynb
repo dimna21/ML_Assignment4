{
  "cells": [
    {
      "cell_type": "markdown",
      "metadata": {
        "id": "view-in-github",
        "colab_type": "text"
      },
      "source": [
        "<a href=\"https://colab.research.google.com/github/dimna21/ML_Assignment4/blob/main/FER2013.ipynb\" target=\"_parent\"><img src=\"https://colab.research.google.com/assets/colab-badge.svg\" alt=\"Open In Colab\"/></a>"
      ]
    },
    {
      "cell_type": "code",
      "source": [
        "!pip install wandb"
      ],
      "metadata": {
        "colab": {
          "base_uri": "https://localhost:8080/"
        },
        "id": "3ZLXW_6vaKhx",
        "outputId": "e659a7b3-3f12-4cb7-d043-baa929c9e102"
      },
      "id": "3ZLXW_6vaKhx",
      "execution_count": 1,
      "outputs": [
        {
          "output_type": "stream",
          "name": "stdout",
          "text": [
            "Requirement already satisfied: wandb in /usr/local/lib/python3.11/dist-packages (0.19.11)\n",
            "Requirement already satisfied: click!=8.0.0,>=7.1 in /usr/local/lib/python3.11/dist-packages (from wandb) (8.2.1)\n",
            "Requirement already satisfied: docker-pycreds>=0.4.0 in /usr/local/lib/python3.11/dist-packages (from wandb) (0.4.0)\n",
            "Requirement already satisfied: gitpython!=3.1.29,>=1.0.0 in /usr/local/lib/python3.11/dist-packages (from wandb) (3.1.44)\n",
            "Requirement already satisfied: platformdirs in /usr/local/lib/python3.11/dist-packages (from wandb) (4.3.8)\n",
            "Requirement already satisfied: protobuf!=4.21.0,!=5.28.0,<7,>=3.19.0 in /usr/local/lib/python3.11/dist-packages (from wandb) (5.29.4)\n",
            "Requirement already satisfied: psutil>=5.0.0 in /usr/local/lib/python3.11/dist-packages (from wandb) (5.9.5)\n",
            "Requirement already satisfied: pydantic<3 in /usr/local/lib/python3.11/dist-packages (from wandb) (2.11.4)\n",
            "Requirement already satisfied: pyyaml in /usr/local/lib/python3.11/dist-packages (from wandb) (6.0.2)\n",
            "Requirement already satisfied: requests<3,>=2.0.0 in /usr/local/lib/python3.11/dist-packages (from wandb) (2.32.3)\n",
            "Requirement already satisfied: sentry-sdk>=2.0.0 in /usr/local/lib/python3.11/dist-packages (from wandb) (2.29.1)\n",
            "Requirement already satisfied: setproctitle in /usr/local/lib/python3.11/dist-packages (from wandb) (1.3.6)\n",
            "Requirement already satisfied: setuptools in /usr/local/lib/python3.11/dist-packages (from wandb) (75.2.0)\n",
            "Requirement already satisfied: typing-extensions<5,>=4.4 in /usr/local/lib/python3.11/dist-packages (from wandb) (4.13.2)\n",
            "Requirement already satisfied: six>=1.4.0 in /usr/local/lib/python3.11/dist-packages (from docker-pycreds>=0.4.0->wandb) (1.17.0)\n",
            "Requirement already satisfied: gitdb<5,>=4.0.1 in /usr/local/lib/python3.11/dist-packages (from gitpython!=3.1.29,>=1.0.0->wandb) (4.0.12)\n",
            "Requirement already satisfied: annotated-types>=0.6.0 in /usr/local/lib/python3.11/dist-packages (from pydantic<3->wandb) (0.7.0)\n",
            "Requirement already satisfied: pydantic-core==2.33.2 in /usr/local/lib/python3.11/dist-packages (from pydantic<3->wandb) (2.33.2)\n",
            "Requirement already satisfied: typing-inspection>=0.4.0 in /usr/local/lib/python3.11/dist-packages (from pydantic<3->wandb) (0.4.1)\n",
            "Requirement already satisfied: charset-normalizer<4,>=2 in /usr/local/lib/python3.11/dist-packages (from requests<3,>=2.0.0->wandb) (3.4.2)\n",
            "Requirement already satisfied: idna<4,>=2.5 in /usr/local/lib/python3.11/dist-packages (from requests<3,>=2.0.0->wandb) (3.10)\n",
            "Requirement already satisfied: urllib3<3,>=1.21.1 in /usr/local/lib/python3.11/dist-packages (from requests<3,>=2.0.0->wandb) (2.4.0)\n",
            "Requirement already satisfied: certifi>=2017.4.17 in /usr/local/lib/python3.11/dist-packages (from requests<3,>=2.0.0->wandb) (2025.4.26)\n",
            "Requirement already satisfied: smmap<6,>=3.0.1 in /usr/local/lib/python3.11/dist-packages (from gitdb<5,>=4.0.1->gitpython!=3.1.29,>=1.0.0->wandb) (5.0.2)\n"
          ]
        }
      ]
    },
    {
      "cell_type": "code",
      "source": [
        "import wandb\n",
        "wandb.login()"
      ],
      "metadata": {
        "colab": {
          "base_uri": "https://localhost:8080/",
          "height": 211
        },
        "id": "nqno6c80fPyn",
        "outputId": "be1d98ca-e8f8-4f8f-a6cf-00d868145533"
      },
      "id": "nqno6c80fPyn",
      "execution_count": 2,
      "outputs": [
        {
          "output_type": "display_data",
          "data": {
            "text/plain": [
              "<IPython.core.display.Javascript object>"
            ],
            "application/javascript": [
              "\n",
              "        window._wandbApiKey = new Promise((resolve, reject) => {\n",
              "            function loadScript(url) {\n",
              "            return new Promise(function(resolve, reject) {\n",
              "                let newScript = document.createElement(\"script\");\n",
              "                newScript.onerror = reject;\n",
              "                newScript.onload = resolve;\n",
              "                document.body.appendChild(newScript);\n",
              "                newScript.src = url;\n",
              "            });\n",
              "            }\n",
              "            loadScript(\"https://cdn.jsdelivr.net/npm/postmate/build/postmate.min.js\").then(() => {\n",
              "            const iframe = document.createElement('iframe')\n",
              "            iframe.style.cssText = \"width:0;height:0;border:none\"\n",
              "            document.body.appendChild(iframe)\n",
              "            const handshake = new Postmate({\n",
              "                container: iframe,\n",
              "                url: 'https://wandb.ai/authorize'\n",
              "            });\n",
              "            const timeout = setTimeout(() => reject(\"Couldn't auto authenticate\"), 5000)\n",
              "            handshake.then(function(child) {\n",
              "                child.on('authorize', data => {\n",
              "                    clearTimeout(timeout)\n",
              "                    resolve(data)\n",
              "                });\n",
              "            });\n",
              "            })\n",
              "        });\n",
              "    "
            ]
          },
          "metadata": {}
        },
        {
          "output_type": "stream",
          "name": "stderr",
          "text": [
            "\u001b[34m\u001b[1mwandb\u001b[0m: Logging into wandb.ai. (Learn how to deploy a W&B server locally: https://wandb.me/wandb-server)\n",
            "\u001b[34m\u001b[1mwandb\u001b[0m: You can find your API key in your browser here: https://wandb.ai/authorize\n",
            "wandb: Paste an API key from your profile and hit enter:"
          ]
        },
        {
          "name": "stdout",
          "output_type": "stream",
          "text": [
            " ··········\n"
          ]
        },
        {
          "output_type": "stream",
          "name": "stderr",
          "text": [
            "\u001b[34m\u001b[1mwandb\u001b[0m: \u001b[33mWARNING\u001b[0m If you're specifying your api key in code, ensure this code is not shared publicly.\n",
            "\u001b[34m\u001b[1mwandb\u001b[0m: \u001b[33mWARNING\u001b[0m Consider setting the WANDB_API_KEY environment variable, or running `wandb login` from the command line.\n",
            "\u001b[34m\u001b[1mwandb\u001b[0m: No netrc file found, creating one.\n",
            "\u001b[34m\u001b[1mwandb\u001b[0m: Appending key for api.wandb.ai to your netrc file: /root/.netrc\n",
            "\u001b[34m\u001b[1mwandb\u001b[0m: Currently logged in as: \u001b[33mdimna21\u001b[0m (\u001b[33mdimna21-free-university-of-tbilisi-\u001b[0m) to \u001b[32mhttps://api.wandb.ai\u001b[0m. Use \u001b[1m`wandb login --relogin`\u001b[0m to force relogin\n"
          ]
        },
        {
          "output_type": "execute_result",
          "data": {
            "text/plain": [
              "True"
            ]
          },
          "metadata": {},
          "execution_count": 2
        }
      ]
    },
    {
      "cell_type": "code",
      "source": [
        "from google.colab import drive\n",
        "drive.mount('/content/drive')"
      ],
      "metadata": {
        "colab": {
          "base_uri": "https://localhost:8080/"
        },
        "id": "txE_ZZpJWh4M",
        "outputId": "5f00b813-21d8-4ba1-bbc6-bc299e9aa64a"
      },
      "id": "txE_ZZpJWh4M",
      "execution_count": 3,
      "outputs": [
        {
          "output_type": "stream",
          "name": "stdout",
          "text": [
            "Mounted at /content/drive\n"
          ]
        }
      ]
    },
    {
      "cell_type": "code",
      "source": [
        "import pandas as pd\n",
        "import numpy as np\n",
        "import torch\n",
        "import torch.nn as nn\n",
        "from torch.utils.data import Dataset, DataLoader\n",
        "\n",
        "# Load the CSV\n",
        "csv_path = \"/content/drive/MyDrive/FER_data/fer2013/fer2013.csv\"\n",
        "df = pd.read_csv(csv_path)\n",
        "\n",
        "# Split by Usage\n",
        "df_train = df[df['Usage']==\"Training\"].copy()\n",
        "df_val   = df[df['Usage']==\"PublicTest\"].copy()\n",
        "df_test  = df[df['Usage']==\"PrivateTest\"].copy()"
      ],
      "metadata": {
        "id": "_kISQ9MWPnq9"
      },
      "id": "_kISQ9MWPnq9",
      "execution_count": 4,
      "outputs": []
    },
    {
      "cell_type": "code",
      "source": [
        "# Balance function: upsampling & random ±10 intensity shifts\n",
        "def balance_dataset(df, target_count, img_shape=(48,48)):\n",
        "    def augment(pix_str):\n",
        "        arr = np.fromstring(pix_str, sep=' ', dtype=int).reshape(img_shape)\n",
        "        shift = np.random.randint(-10, 11)\n",
        "        arr = np.clip(arr + shift, 0, 255).astype(int)\n",
        "        return ' '.join(map(str, arr.ravel()))\n",
        "    parts = [df]\n",
        "    for emo, grp in df.groupby('emotion'):\n",
        "        n = len(grp)\n",
        "        if n < target_count:\n",
        "            extra = grp.sample(n=target_count-n, replace=True).copy()\n",
        "            extra['pixels'] = extra['pixels'].map(augment)\n",
        "            parts.append(extra)\n",
        "    return pd.concat(parts, ignore_index=True)\n"
      ],
      "metadata": {
        "id": "KvawHlnpW48u"
      },
      "id": "KvawHlnpW48u",
      "execution_count": 5,
      "outputs": []
    },
    {
      "cell_type": "code",
      "source": [
        "# Dataset class\n",
        "class FERDataset(Dataset):\n",
        "    def __init__(self, dataframe):\n",
        "        self.pixels = dataframe['pixels'].values\n",
        "        self.labels = dataframe['emotion'].values.astype(int)\n",
        "    def __len__(self):\n",
        "        return len(self.labels)\n",
        "    def __getitem__(self, idx):\n",
        "        arr = np.fromstring(self.pixels[idx], sep=' ', dtype=np.uint8).reshape(48,48)\n",
        "        arr = arr.astype(np.float32) / 255.0\n",
        "        tensor = torch.from_numpy(arr).unsqueeze(0)  # shape [1,48,48]\n",
        "        return tensor, self.labels[idx]\n"
      ],
      "metadata": {
        "id": "h1q4nlYyXBxE"
      },
      "id": "h1q4nlYyXBxE",
      "execution_count": 6,
      "outputs": []
    },
    {
      "cell_type": "code",
      "source": [
        "# Check device\n",
        "device = torch.device(\"cuda\" if torch.cuda.is_available() else \"cpu\")\n",
        "print(\"Using device:\", device)"
      ],
      "metadata": {
        "colab": {
          "base_uri": "https://localhost:8080/"
        },
        "id": "v9JYy7z7YM0F",
        "outputId": "0d3f9007-2959-4dbf-d8f4-c07733edb469"
      },
      "id": "v9JYy7z7YM0F",
      "execution_count": 7,
      "outputs": [
        {
          "output_type": "stream",
          "name": "stdout",
          "text": [
            "Using device: cuda\n"
          ]
        }
      ]
    },
    {
      "cell_type": "code",
      "source": [
        "# DataLoaders\n",
        "max_count = df_train['emotion'].value_counts().max()\n",
        "balanced_train = balance_dataset(df_train, target_count=max_count)\n",
        "\n",
        "#train_ds = FERDataset(df_train)\n",
        "train_ds = FERDataset(balanced_train)\n",
        "val_ds = FERDataset(df_val)\n",
        "test_ds = FERDataset(df_test)\n",
        "\n",
        "batch_size = 128\n",
        "train_dl = DataLoader(train_ds, batch_size=batch_size, shuffle=True,  num_workers=2)\n",
        "val_dl = DataLoader(val_ds,   batch_size=batch_size, shuffle=False, num_workers=2)\n",
        "test_dl = DataLoader(test_ds,  batch_size=batch_size, shuffle=False, num_workers=2)\n",
        "\n",
        "# Class names\n",
        "class_names = [\"Angry\", \"Disgust\", \"Fear\", \"Happy\", \"Sad\", \"Surprise\", \"Neutral\"]"
      ],
      "metadata": {
        "id": "cqg0BQ4hY49l"
      },
      "id": "cqg0BQ4hY49l",
      "execution_count": 8,
      "outputs": []
    },
    {
      "cell_type": "code",
      "source": [
        "import torch\n",
        "from tqdm import tqdm\n",
        "import wandb\n",
        "from sklearn.metrics import confusion_matrix, f1_score\n",
        "import matplotlib.pyplot as plt\n",
        "import numpy as np\n",
        "\n",
        "def train_model(model, train_loader, val_loader,\n",
        "                criterion, optimizer, device,\n",
        "                epochs=5, class_names=None):\n",
        "\n",
        "    wandb.init(\n",
        "        project=\"ML_Assignment4\",\n",
        "        config={\n",
        "            \"epochs\": epochs,\n",
        "            \"batch_size\": train_loader.batch_size,\n",
        "            \"optimizer\": optimizer.__class__.__name__,\n",
        "            \"lr\": optimizer.param_groups[0][\"lr\"],\n",
        "            \"criterion\": criterion.__class__.__name__,\n",
        "        },\n",
        "    )\n",
        "    cfg = wandb.config\n",
        "    wandb.watch(model, log=\"all\", log_freq=100)\n",
        "    model.to(device)\n",
        "\n",
        "    train_loss_plot, val_loss_plot = [], []\n",
        "    train_acc_plot,  val_acc_plot  = [], []\n",
        "\n",
        "    for epoch in range(1, cfg.epochs + 1):\n",
        "        # — TRAIN —\n",
        "        model.train()\n",
        "        running_loss = running_correct = running_total = 0\n",
        "        for X, y in tqdm(train_loader, desc=f\"Epoch {epoch} [Train]\"):\n",
        "            X, y = X.to(device), y.to(device)\n",
        "            optimizer.zero_grad()\n",
        "            out = model(X)\n",
        "            loss = criterion(out, y)\n",
        "            loss.backward()\n",
        "            optimizer.step()\n",
        "\n",
        "            running_loss    += loss.item() * X.size(0)\n",
        "            preds            = out.argmax(dim=1)\n",
        "            running_correct += preds.eq(y).sum().item()\n",
        "            running_total   += y.size(0)\n",
        "\n",
        "        train_loss = running_loss / running_total\n",
        "        train_acc  = running_correct / running_total\n",
        "\n",
        "        # — VALIDATE —\n",
        "        model.eval()\n",
        "        val_running_loss = val_running_correct = val_running_total = 0\n",
        "        all_preds, all_targets = [], []\n",
        "        with torch.no_grad():\n",
        "            for X, y in tqdm(val_loader, desc=f\"Epoch {epoch} [Val]\"):\n",
        "                X, y = X.to(device), y.to(device)\n",
        "                out = model(X)\n",
        "                loss = criterion(out, y)\n",
        "\n",
        "                val_running_loss    += loss.item() * X.size(0)\n",
        "                preds                = out.argmax(dim=1)\n",
        "                val_running_correct += preds.eq(y).sum().item()\n",
        "                val_running_total   += y.size(0)\n",
        "\n",
        "                all_preds.extend(preds.cpu().numpy())\n",
        "                all_targets.extend(y.cpu().numpy())\n",
        "\n",
        "        val_loss = val_running_loss / val_running_total\n",
        "        val_acc  = val_running_correct / val_running_total\n",
        "\n",
        "        # — SCALARS & F1 —\n",
        "        cm = confusion_matrix(all_targets, all_preds)\n",
        "        f1_per_class = f1_score(all_targets, all_preds, average=None)\n",
        "\n",
        "        log_data = {\n",
        "            \"train_loss\": train_loss,\n",
        "            \"train_acc\":  train_acc,\n",
        "            \"val_loss\":   val_loss,\n",
        "            \"val_acc\":    val_acc,\n",
        "        }\n",
        "        for i, name in enumerate(class_names):\n",
        "            log_data[f\"f1_{name}\"] = f1_per_class[i]\n",
        "\n",
        "        wandb.log(log_data, step=epoch)\n",
        "\n",
        "        # — 7×7 Confusion Matrix Plot & Log —\n",
        "        fig_cm, ax = plt.subplots(figsize=(6,6))\n",
        "        im = ax.imshow(cm, interpolation='nearest', cmap='Blues')\n",
        "        fig_cm.colorbar(im, ax=ax)\n",
        "\n",
        "        ax.set_xticks(np.arange(len(class_names)))\n",
        "        ax.set_yticks(np.arange(len(class_names)))\n",
        "        ax.set_xticklabels(class_names, rotation=45, ha='right')\n",
        "        ax.set_yticklabels(class_names)\n",
        "\n",
        "        for i in range(len(class_names)):\n",
        "            for j in range(len(class_names)):\n",
        "                ax.text(j, i, cm[i, j],\n",
        "                        ha='center', va='center')\n",
        "\n",
        "        ax.set_xlabel('Predicted')\n",
        "        ax.set_ylabel('Actual')\n",
        "        ax.set_title(f'Epoch {epoch} Confusion Matrix')\n",
        "\n",
        "        wandb.log({\"confusion_matrix\": wandb.Image(fig_cm)}, step=epoch)\n",
        "        plt.close(fig_cm)\n",
        "\n",
        "        # — PRINT & STORE FOR CURVES —\n",
        "        print(\n",
        "            f\"Epoch {epoch}/{cfg.epochs} — \"\n",
        "            f\"Train Loss: {train_loss:.4f}, Train Acc: {train_acc:.4f}  |  \"\n",
        "            f\"Val Loss: {val_loss:.4f}, Val Acc: {val_acc:.4f}\"\n",
        "        )\n",
        "        print(\"-\" * 60)\n",
        "\n",
        "        train_loss_plot.append(train_loss)\n",
        "        val_loss_plot.append(val_loss)\n",
        "        train_acc_plot.append(train_acc)\n",
        "        val_acc_plot.append(val_acc)\n",
        "\n",
        "    # — PLOT & LOG LOSS/ACC CURVES TO W&B —\n",
        "    epochs_range = list(range(1, cfg.epochs + 1))\n",
        "\n",
        "    # Loss curve\n",
        "    fig1, ax1 = plt.subplots()\n",
        "    ax1.plot(epochs_range, train_loss_plot, label=\"Train Loss\")\n",
        "    ax1.plot(epochs_range, val_loss_plot,   label=\"Val Loss\")\n",
        "    ax1.set(title=\"Loss vs Epoch\", xlabel=\"Epoch\", ylabel=\"Loss\")\n",
        "    ax1.legend()\n",
        "    wandb.log({\"loss_curve\": wandb.Image(fig1)})\n",
        "    plt.close(fig1)\n",
        "\n",
        "    # Accuracy curve\n",
        "    fig2, ax2 = plt.subplots()\n",
        "    ax2.plot(epochs_range, train_acc_plot, label=\"Train Acc\")\n",
        "    ax2.plot(epochs_range, val_acc_plot,   label=\"Val Acc\")\n",
        "    ax2.set(title=\"Accuracy vs Epoch\", xlabel=\"Epoch\", ylabel=\"Accuracy\")\n",
        "    ax2.legend()\n",
        "    wandb.log({\"acc_curve\": wandb.Image(fig2)})\n",
        "    plt.close(fig2)\n",
        "\n",
        "    return model\n"
      ],
      "metadata": {
        "id": "yUaGVGmwYp9q"
      },
      "id": "yUaGVGmwYp9q",
      "execution_count": 9,
      "outputs": []
    },
    {
      "cell_type": "code",
      "source": [
        "class BaselineModel(nn.Module):\n",
        "    def __init__(self):\n",
        "      super().__init__()\n",
        "\n",
        "      self.conv1 = nn.Conv2d(1, 32, kernel_size = 3, padding = 1)\n",
        "      self.conv2 = nn.Conv2d(32, 64, kernel_size = 3, padding = 1)\n",
        "      self.conv3 = nn.Conv2d(64, 128, kernel_size = 3, padding = 1)\n",
        "      self.pooling = nn.MaxPool2d(2,2)\n",
        "      self.relu = nn.ReLU()\n",
        "\n",
        "      self.flatten = nn.Flatten()\n",
        "      self.linear = nn.Linear((128 * 6 * 6), 128)\n",
        "      self.output = nn.Linear(128, 7)\n",
        "\n",
        "\n",
        "    def forward(self, x):\n",
        "      x = self.conv1(x)\n",
        "      x = self.pooling(x)\n",
        "      x = self.relu(x)\n",
        "      x = self.conv2(x)\n",
        "      x = self.pooling(x)\n",
        "      x = self.relu(x)\n",
        "      x = self.conv3(x)\n",
        "      x = self.pooling(x)\n",
        "      x = self.relu(x)\n",
        "      x = self.flatten(x)\n",
        "      x = self.linear(x)\n",
        "      x = self.output(x)\n",
        "\n",
        "      return x\n",
        "\n",
        "#Run with dataset balancing:\n",
        "#https://wandb.ai/dimna21-free-university-of-tbilisi-/ML_Assignment4/runs/7amufnzs?nw=nwuserdimna21\n",
        "\n",
        "#Run without dataset balancing:\n",
        "#https://wandb.ai/dimna21-free-university-of-tbilisi-/ML_Assignment4/runs/dnyp6qje\n",
        "#20 epochs instead of 10:\n",
        "#https://wandb.ai/dimna21-free-university-of-tbilisi-/ML_Assignment4/runs/0axoxyj9?nw=nwuserdimna21"
      ],
      "metadata": {
        "id": "YTbWfJUPxuff"
      },
      "id": "YTbWfJUPxuff",
      "execution_count": null,
      "outputs": []
    },
    {
      "cell_type": "code",
      "source": [
        "baseline_model = BaselineModel().to(device)\n",
        "criterion = nn.CrossEntropyLoss()\n",
        "optimizer = torch.optim.Adam(baseline_model.parameters(), lr=1e-3)\n",
        "trained = train_model(\n",
        "    baseline_model,\n",
        "    train_dl,\n",
        "    val_dl,\n",
        "    criterion,\n",
        "    optimizer,\n",
        "    device,\n",
        "    epochs=20,\n",
        "    class_names=class_names\n",
        ")"
      ],
      "metadata": {
        "colab": {
          "base_uri": "https://localhost:8080/",
          "height": 1000
        },
        "id": "O6Vv4Tlc3cy0",
        "outputId": "e35a946b-56e0-4822-a064-ada27b73b4ba"
      },
      "id": "O6Vv4Tlc3cy0",
      "execution_count": null,
      "outputs": [
        {
          "output_type": "display_data",
          "data": {
            "text/plain": [
              "<IPython.core.display.HTML object>"
            ],
            "text/html": [
              "Finishing previous runs because reinit is set to 'default'."
            ]
          },
          "metadata": {}
        },
        {
          "output_type": "display_data",
          "data": {
            "text/plain": [
              "<IPython.core.display.HTML object>"
            ],
            "text/html": []
          },
          "metadata": {}
        },
        {
          "output_type": "display_data",
          "data": {
            "text/plain": [
              "<IPython.core.display.HTML object>"
            ],
            "text/html": [
              "<br>    <style><br>        .wandb-row {<br>            display: flex;<br>            flex-direction: row;<br>            flex-wrap: wrap;<br>            justify-content: flex-start;<br>            width: 100%;<br>        }<br>        .wandb-col {<br>            display: flex;<br>            flex-direction: column;<br>            flex-basis: 100%;<br>            flex: 1;<br>            padding: 10px;<br>        }<br>    </style><br><div class=\"wandb-row\"><div class=\"wandb-col\"><h3>Run history:</h3><br/><table class=\"wandb\"><tr><td>f1_Angry</td><td>▁▂▅▆▆▆▇▇█▇</td></tr><tr><td>f1_Disgust</td><td>▁▁▂▄▅▇▅▇██</td></tr><tr><td>f1_Fear</td><td>▁▃▄▅▅▆▇█▆█</td></tr><tr><td>f1_Happy</td><td>▁▃▄▇▆▇█▇██</td></tr><tr><td>f1_Neutral</td><td>▁▂▄▆▇██▇▇█</td></tr><tr><td>f1_Sad</td><td>▁▅▃▇█▅█▆▇▆</td></tr><tr><td>f1_Surprise</td><td>▁▃▅▇▇▇▇█▇█</td></tr><tr><td>train_acc</td><td>▁▃▄▅▆▆▇▇██</td></tr><tr><td>train_loss</td><td>█▆▅▄▃▃▂▂▁▁</td></tr><tr><td>val_acc</td><td>▁▄▄▇▇▇████</td></tr><tr><td>val_loss</td><td>█▅▄▂▁▁▁▂▂▂</td></tr></table><br/></div><div class=\"wandb-col\"><h3>Run summary:</h3><br/><table class=\"wandb\"><tr><td>f1_Angry</td><td>0.4639</td></tr><tr><td>f1_Disgust</td><td>0.50633</td></tr><tr><td>f1_Fear</td><td>0.37651</td></tr><tr><td>f1_Happy</td><td>0.75697</td></tr><tr><td>f1_Neutral</td><td>0.49241</td></tr><tr><td>f1_Sad</td><td>0.37192</td></tr><tr><td>f1_Surprise</td><td>0.71262</td></tr><tr><td>train_acc</td><td>0.67275</td></tr><tr><td>train_loss</td><td>0.89268</td></tr><tr><td>val_acc</td><td>0.54416</td></tr><tr><td>val_loss</td><td>1.27807</td></tr></table><br/></div></div>"
            ]
          },
          "metadata": {}
        },
        {
          "output_type": "display_data",
          "data": {
            "text/plain": [
              "<IPython.core.display.HTML object>"
            ],
            "text/html": [
              " View run <strong style=\"color:#cdcd00\">rare-frost-6</strong> at: <a href='https://wandb.ai/dimna21-free-university-of-tbilisi-/ML_Assignment4/runs/dnyp6qje' target=\"_blank\">https://wandb.ai/dimna21-free-university-of-tbilisi-/ML_Assignment4/runs/dnyp6qje</a><br> View project at: <a href='https://wandb.ai/dimna21-free-university-of-tbilisi-/ML_Assignment4' target=\"_blank\">https://wandb.ai/dimna21-free-university-of-tbilisi-/ML_Assignment4</a><br>Synced 5 W&B file(s), 12 media file(s), 0 artifact file(s) and 0 other file(s)"
            ]
          },
          "metadata": {}
        },
        {
          "output_type": "display_data",
          "data": {
            "text/plain": [
              "<IPython.core.display.HTML object>"
            ],
            "text/html": [
              "Find logs at: <code>./wandb/run-20250529_170945-dnyp6qje/logs</code>"
            ]
          },
          "metadata": {}
        },
        {
          "output_type": "display_data",
          "data": {
            "text/plain": [
              "<IPython.core.display.HTML object>"
            ],
            "text/html": [
              "Tracking run with wandb version 0.19.11"
            ]
          },
          "metadata": {}
        },
        {
          "output_type": "display_data",
          "data": {
            "text/plain": [
              "<IPython.core.display.HTML object>"
            ],
            "text/html": [
              "Run data is saved locally in <code>/content/wandb/run-20250529_171331-0axoxyj9</code>"
            ]
          },
          "metadata": {}
        },
        {
          "output_type": "display_data",
          "data": {
            "text/plain": [
              "<IPython.core.display.HTML object>"
            ],
            "text/html": [
              "Syncing run <strong><a href='https://wandb.ai/dimna21-free-university-of-tbilisi-/ML_Assignment4/runs/0axoxyj9' target=\"_blank\">honest-dawn-7</a></strong> to <a href='https://wandb.ai/dimna21-free-university-of-tbilisi-/ML_Assignment4' target=\"_blank\">Weights & Biases</a> (<a href='https://wandb.me/developer-guide' target=\"_blank\">docs</a>)<br>"
            ]
          },
          "metadata": {}
        },
        {
          "output_type": "display_data",
          "data": {
            "text/plain": [
              "<IPython.core.display.HTML object>"
            ],
            "text/html": [
              " View project at <a href='https://wandb.ai/dimna21-free-university-of-tbilisi-/ML_Assignment4' target=\"_blank\">https://wandb.ai/dimna21-free-university-of-tbilisi-/ML_Assignment4</a>"
            ]
          },
          "metadata": {}
        },
        {
          "output_type": "display_data",
          "data": {
            "text/plain": [
              "<IPython.core.display.HTML object>"
            ],
            "text/html": [
              " View run at <a href='https://wandb.ai/dimna21-free-university-of-tbilisi-/ML_Assignment4/runs/0axoxyj9' target=\"_blank\">https://wandb.ai/dimna21-free-university-of-tbilisi-/ML_Assignment4/runs/0axoxyj9</a>"
            ]
          },
          "metadata": {}
        },
        {
          "output_type": "stream",
          "name": "stderr",
          "text": [
            "Epoch 1 [Train]: 100%|██████████| 225/225 [00:06<00:00, 34.76it/s]\n",
            "Epoch 1 [Val]: 100%|██████████| 29/29 [00:01<00:00, 25.32it/s]\n"
          ]
        },
        {
          "output_type": "stream",
          "name": "stdout",
          "text": [
            "Epoch 1/20 — Train Loss: 1.6812, Train Acc: 0.3272  |  Val Loss: 1.5147, Val Acc: 0.4235\n",
            "------------------------------------------------------------\n"
          ]
        },
        {
          "output_type": "stream",
          "name": "stderr",
          "text": [
            "Epoch 2 [Train]: 100%|██████████| 225/225 [00:05<00:00, 42.10it/s]\n",
            "Epoch 2 [Val]: 100%|██████████| 29/29 [00:00<00:00, 46.90it/s]\n"
          ]
        },
        {
          "output_type": "stream",
          "name": "stdout",
          "text": [
            "Epoch 2/20 — Train Loss: 1.4493, Train Acc: 0.4449  |  Val Loss: 1.3864, Val Acc: 0.4762\n",
            "------------------------------------------------------------\n"
          ]
        },
        {
          "output_type": "stream",
          "name": "stderr",
          "text": [
            "Epoch 3 [Train]: 100%|██████████| 225/225 [00:07<00:00, 28.47it/s]\n",
            "Epoch 3 [Val]: 100%|██████████| 29/29 [00:00<00:00, 33.85it/s]\n"
          ]
        },
        {
          "output_type": "stream",
          "name": "stdout",
          "text": [
            "Epoch 3/20 — Train Loss: 1.3132, Train Acc: 0.5038  |  Val Loss: 1.3009, Val Acc: 0.5032\n",
            "------------------------------------------------------------\n"
          ]
        },
        {
          "output_type": "stream",
          "name": "stderr",
          "text": [
            "Epoch 4 [Train]: 100%|██████████| 225/225 [00:04<00:00, 54.99it/s]\n",
            "Epoch 4 [Val]: 100%|██████████| 29/29 [00:00<00:00, 50.87it/s]\n"
          ]
        },
        {
          "output_type": "stream",
          "name": "stdout",
          "text": [
            "Epoch 4/20 — Train Loss: 1.2133, Train Acc: 0.5430  |  Val Loss: 1.2520, Val Acc: 0.5319\n",
            "------------------------------------------------------------\n"
          ]
        },
        {
          "output_type": "stream",
          "name": "stderr",
          "text": [
            "Epoch 5 [Train]: 100%|██████████| 225/225 [00:04<00:00, 54.86it/s]\n",
            "Epoch 5 [Val]: 100%|██████████| 29/29 [00:00<00:00, 48.91it/s]\n"
          ]
        },
        {
          "output_type": "stream",
          "name": "stdout",
          "text": [
            "Epoch 5/20 — Train Loss: 1.1404, Train Acc: 0.5729  |  Val Loss: 1.2164, Val Acc: 0.5467\n",
            "------------------------------------------------------------\n"
          ]
        },
        {
          "output_type": "stream",
          "name": "stderr",
          "text": [
            "Epoch 6 [Train]: 100%|██████████| 225/225 [00:06<00:00, 36.63it/s]\n",
            "Epoch 6 [Val]: 100%|██████████| 29/29 [00:00<00:00, 50.79it/s]\n"
          ]
        },
        {
          "output_type": "stream",
          "name": "stdout",
          "text": [
            "Epoch 6/20 — Train Loss: 1.0759, Train Acc: 0.5992  |  Val Loss: 1.2318, Val Acc: 0.5389\n",
            "------------------------------------------------------------\n"
          ]
        },
        {
          "output_type": "stream",
          "name": "stderr",
          "text": [
            "Epoch 7 [Train]: 100%|██████████| 225/225 [00:04<00:00, 55.49it/s]\n",
            "Epoch 7 [Val]: 100%|██████████| 29/29 [00:00<00:00, 52.67it/s]\n"
          ]
        },
        {
          "output_type": "stream",
          "name": "stdout",
          "text": [
            "Epoch 7/20 — Train Loss: 1.0205, Train Acc: 0.6215  |  Val Loss: 1.2220, Val Acc: 0.5500\n",
            "------------------------------------------------------------\n"
          ]
        },
        {
          "output_type": "stream",
          "name": "stderr",
          "text": [
            "Epoch 8 [Train]: 100%|██████████| 225/225 [00:04<00:00, 48.70it/s]\n",
            "Epoch 8 [Val]: 100%|██████████| 29/29 [00:01<00:00, 27.93it/s]\n"
          ]
        },
        {
          "output_type": "stream",
          "name": "stdout",
          "text": [
            "Epoch 8/20 — Train Loss: 0.9569, Train Acc: 0.6484  |  Val Loss: 1.2517, Val Acc: 0.5464\n",
            "------------------------------------------------------------\n"
          ]
        },
        {
          "output_type": "stream",
          "name": "stderr",
          "text": [
            "Epoch 9 [Train]: 100%|██████████| 225/225 [00:05<00:00, 43.54it/s]\n",
            "Epoch 9 [Val]: 100%|██████████| 29/29 [00:00<00:00, 48.15it/s]\n"
          ]
        },
        {
          "output_type": "stream",
          "name": "stdout",
          "text": [
            "Epoch 9/20 — Train Loss: 0.9012, Train Acc: 0.6701  |  Val Loss: 1.2355, Val Acc: 0.5469\n",
            "------------------------------------------------------------\n"
          ]
        },
        {
          "output_type": "stream",
          "name": "stderr",
          "text": [
            "Epoch 10 [Train]: 100%|██████████| 225/225 [00:04<00:00, 55.54it/s]\n",
            "Epoch 10 [Val]: 100%|██████████| 29/29 [00:00<00:00, 53.94it/s]\n"
          ]
        },
        {
          "output_type": "stream",
          "name": "stdout",
          "text": [
            "Epoch 10/20 — Train Loss: 0.8462, Train Acc: 0.6903  |  Val Loss: 1.2926, Val Acc: 0.5517\n",
            "------------------------------------------------------------\n"
          ]
        },
        {
          "output_type": "stream",
          "name": "stderr",
          "text": [
            "Epoch 11 [Train]: 100%|██████████| 225/225 [00:06<00:00, 33.39it/s]\n",
            "Epoch 11 [Val]: 100%|██████████| 29/29 [00:00<00:00, 38.83it/s]\n"
          ]
        },
        {
          "output_type": "stream",
          "name": "stdout",
          "text": [
            "Epoch 11/20 — Train Loss: 0.7881, Train Acc: 0.7095  |  Val Loss: 1.3603, Val Acc: 0.5414\n",
            "------------------------------------------------------------\n"
          ]
        },
        {
          "output_type": "stream",
          "name": "stderr",
          "text": [
            "Epoch 12 [Train]: 100%|██████████| 225/225 [00:04<00:00, 54.46it/s]\n",
            "Epoch 12 [Val]: 100%|██████████| 29/29 [00:00<00:00, 53.20it/s]\n"
          ]
        },
        {
          "output_type": "stream",
          "name": "stdout",
          "text": [
            "Epoch 12/20 — Train Loss: 0.7348, Train Acc: 0.7298  |  Val Loss: 1.3331, Val Acc: 0.5578\n",
            "------------------------------------------------------------\n"
          ]
        },
        {
          "output_type": "stream",
          "name": "stderr",
          "text": [
            "Epoch 13 [Train]: 100%|██████████| 225/225 [00:04<00:00, 55.74it/s]\n",
            "Epoch 13 [Val]: 100%|██████████| 29/29 [00:00<00:00, 37.73it/s]\n"
          ]
        },
        {
          "output_type": "stream",
          "name": "stdout",
          "text": [
            "Epoch 13/20 — Train Loss: 0.6840, Train Acc: 0.7514  |  Val Loss: 1.4282, Val Acc: 0.5553\n",
            "------------------------------------------------------------\n"
          ]
        },
        {
          "output_type": "stream",
          "name": "stderr",
          "text": [
            "Epoch 14 [Train]: 100%|██████████| 225/225 [00:05<00:00, 38.07it/s]\n",
            "Epoch 14 [Val]: 100%|██████████| 29/29 [00:00<00:00, 49.62it/s]\n"
          ]
        },
        {
          "output_type": "stream",
          "name": "stdout",
          "text": [
            "Epoch 14/20 — Train Loss: 0.6396, Train Acc: 0.7645  |  Val Loss: 1.5129, Val Acc: 0.5472\n",
            "------------------------------------------------------------\n"
          ]
        },
        {
          "output_type": "stream",
          "name": "stderr",
          "text": [
            "Epoch 15 [Train]: 100%|██████████| 225/225 [00:04<00:00, 55.25it/s]\n",
            "Epoch 15 [Val]: 100%|██████████| 29/29 [00:00<00:00, 50.40it/s]\n"
          ]
        },
        {
          "output_type": "stream",
          "name": "stdout",
          "text": [
            "Epoch 15/20 — Train Loss: 0.5856, Train Acc: 0.7889  |  Val Loss: 1.5878, Val Acc: 0.5344\n",
            "------------------------------------------------------------\n"
          ]
        },
        {
          "output_type": "stream",
          "name": "stderr",
          "text": [
            "Epoch 16 [Train]: 100%|██████████| 225/225 [00:05<00:00, 43.86it/s]\n",
            "Epoch 16 [Val]: 100%|██████████| 29/29 [00:01<00:00, 28.67it/s]\n"
          ]
        },
        {
          "output_type": "stream",
          "name": "stdout",
          "text": [
            "Epoch 16/20 — Train Loss: 0.5397, Train Acc: 0.8020  |  Val Loss: 1.6771, Val Acc: 0.5419\n",
            "------------------------------------------------------------\n"
          ]
        },
        {
          "output_type": "stream",
          "name": "stderr",
          "text": [
            "Epoch 17 [Train]: 100%|██████████| 225/225 [00:04<00:00, 47.47it/s]\n",
            "Epoch 17 [Val]: 100%|██████████| 29/29 [00:00<00:00, 47.57it/s]\n"
          ]
        },
        {
          "output_type": "stream",
          "name": "stdout",
          "text": [
            "Epoch 17/20 — Train Loss: 0.4986, Train Acc: 0.8182  |  Val Loss: 1.7001, Val Acc: 0.5472\n",
            "------------------------------------------------------------\n"
          ]
        },
        {
          "output_type": "stream",
          "name": "stderr",
          "text": [
            "Epoch 18 [Train]: 100%|██████████| 225/225 [00:04<00:00, 47.82it/s]\n",
            "Epoch 18 [Val]: 100%|██████████| 29/29 [00:00<00:00, 47.82it/s]\n"
          ]
        },
        {
          "output_type": "stream",
          "name": "stdout",
          "text": [
            "Epoch 18/20 — Train Loss: 0.4636, Train Acc: 0.8318  |  Val Loss: 1.8411, Val Acc: 0.5414\n",
            "------------------------------------------------------------\n"
          ]
        },
        {
          "output_type": "stream",
          "name": "stderr",
          "text": [
            "Epoch 19 [Train]: 100%|██████████| 225/225 [00:06<00:00, 35.93it/s]\n",
            "Epoch 19 [Val]: 100%|██████████| 29/29 [00:00<00:00, 50.49it/s]\n"
          ]
        },
        {
          "output_type": "stream",
          "name": "stdout",
          "text": [
            "Epoch 19/20 — Train Loss: 0.4270, Train Acc: 0.8452  |  Val Loss: 1.8972, Val Acc: 0.5511\n",
            "------------------------------------------------------------\n"
          ]
        },
        {
          "output_type": "stream",
          "name": "stderr",
          "text": [
            "Epoch 20 [Train]: 100%|██████████| 225/225 [00:04<00:00, 54.63it/s]\n",
            "Epoch 20 [Val]: 100%|██████████| 29/29 [00:00<00:00, 48.18it/s]\n"
          ]
        },
        {
          "output_type": "stream",
          "name": "stdout",
          "text": [
            "Epoch 20/20 — Train Loss: 0.3815, Train Acc: 0.8583  |  Val Loss: 2.1096, Val Acc: 0.5411\n",
            "------------------------------------------------------------\n"
          ]
        }
      ]
    },
    {
      "cell_type": "code",
      "source": [
        "class ImprovedModel(nn.Module):\n",
        "    def __init__(self, dropout_p=0.5):\n",
        "        super().__init__()\n",
        "        # — conv backbone with 4 pooling stages —\n",
        "        self.conv1    = nn.Conv2d(1,   32, 3, padding=1, bias=False)\n",
        "        self.bn1      = nn.BatchNorm2d(32)\n",
        "        self.conv2    = nn.Conv2d(32,  64, 3, padding=1, bias=False)\n",
        "        self.bn2      = nn.BatchNorm2d(64)\n",
        "        self.conv3    = nn.Conv2d(64, 128, 3, padding=1, bias=False)\n",
        "        self.bn3      = nn.BatchNorm2d(128)\n",
        "        self.conv4    = nn.Conv2d(128,256, 3, padding=1, bias=False)\n",
        "        self.bn4      = nn.BatchNorm2d(256)\n",
        "\n",
        "        self.pool     = nn.MaxPool2d(2,2)\n",
        "        self.relu     = nn.ReLU(inplace=True)\n",
        "        self.drop_conv= nn.Dropout2d(dropout_p)\n",
        "\n",
        "        # — two extra conv layers (no further pooling) —\n",
        "        self.conv5    = nn.Conv2d(256, 512, 3, padding=1, bias=False)\n",
        "        self.bn5      = nn.BatchNorm2d(512)\n",
        "        self.conv6    = nn.Conv2d(512, 512, 3, padding=1, bias=False)\n",
        "        self.bn6      = nn.BatchNorm2d(512)\n",
        "\n",
        "        # — richer head with 4 FCs —\n",
        "        self.flatten  = nn.Flatten()\n",
        "        self.fc1      = nn.Linear(512 * 3 * 3, 512, bias=False)\n",
        "        self.bn_fc1   = nn.BatchNorm1d(512)\n",
        "        self.drop1    = nn.Dropout(dropout_p)\n",
        "        self.fc2      = nn.Linear(512, 256, bias=False)\n",
        "        self.bn_fc2   = nn.BatchNorm1d(256)\n",
        "        self.drop2    = nn.Dropout(dropout_p)\n",
        "        self.fc3      = nn.Linear(256, 128, bias=False)\n",
        "        self.bn_fc3   = nn.BatchNorm1d(128)\n",
        "        self.drop3    = nn.Dropout(dropout_p)\n",
        "        self.fc4      = nn.Linear(128, 64, bias=False)\n",
        "        self.bn_fc4   = nn.BatchNorm1d(64)\n",
        "        self.drop4    = nn.Dropout(dropout_p)\n",
        "        self.output   = nn.Linear(64, 7)\n",
        "\n",
        "    def forward(self, x):\n",
        "        # conv blocks 1–4 with pooling\n",
        "        for conv, bn in [(self.conv1,self.bn1),\n",
        "                         (self.conv2,self.bn2),\n",
        "                         (self.conv3,self.bn3),\n",
        "                         (self.conv4,self.bn4)]:\n",
        "            x = conv(x)\n",
        "            x = bn(x)\n",
        "            x = self.relu(x)\n",
        "            x = self.pool(x)\n",
        "            x = self.drop_conv(x)\n",
        "\n",
        "        # extra conv blocks 5–6 (no more pooling)\n",
        "        x = self.conv5(x)\n",
        "        x = self.bn5(x)\n",
        "        x = self.relu(x)\n",
        "        x = self.drop_conv(x)\n",
        "\n",
        "        x = self.conv6(x)\n",
        "        x = self.bn6(x)\n",
        "        x = self.relu(x)\n",
        "        x = self.drop_conv(x)\n",
        "\n",
        "        # FC head\n",
        "        x = self.flatten(x)\n",
        "        x = self.fc1(x)\n",
        "        x = self.bn_fc1(x)\n",
        "        x = self.relu(x)\n",
        "        x = self.drop1(x)\n",
        "\n",
        "        x = self.fc2(x)\n",
        "        x = self.bn_fc2(x)\n",
        "        x = self.relu(x)\n",
        "        x = self.drop2(x)\n",
        "\n",
        "        x = self.fc3(x)\n",
        "        x = self.bn_fc3(x)\n",
        "        x = self.relu(x)\n",
        "        x = self.drop3(x)\n",
        "\n",
        "        x = self.fc4(x)\n",
        "        x = self.bn_fc4(x)\n",
        "        x = self.relu(x)\n",
        "        x = self.drop4(x)\n",
        "\n",
        "        x = self.output(x)\n",
        "        return x\n",
        "\n",
        "\n",
        "#Run with added batchnorms\n",
        "#https://wandb.ai/dimna21-free-university-of-tbilisi-/ML_Assignment4/runs/cuxqkkdm?nw=nwuserdimna21\n",
        "#topped out at 70%/58%\n",
        "\n",
        "#Run with added batchnorms and dropouts\n",
        "#10 epochs:  https://wandb.ai/dimna21-free-university-of-tbilisi-/ML_Assignment4/runs/iactnmo6?nw=nwuserdimna21\n",
        "#20 epochs:  https://wandb.ai/dimna21-free-university-of-tbilisi-/ML_Assignment4/runs/ydlxqyzi?nw=nwuserdimna21\n",
        "#started overfitting after reaching 62%/60% accuracies on train/validation\n",
        "\n",
        "#Run with added 4th convolutional block:\n",
        "#https://wandb.ai/dimna21-free-university-of-tbilisi-/ML_Assignment4/runs/lqfkix8t\n",
        "#no improvements, got 62%/60%\n",
        "\n",
        "#Run with a more complex head of 512->256->128\n",
        "#https://wandb.ai/dimna21-free-university-of-tbilisi-/ML_Assignment4/runs/65qgarhf\n",
        "#slight improvement, got 64%/61%\n",
        "\n",
        "#Run with added residual blocks\n",
        "#20 epochs: https://wandb.ai/dimna21-free-university-of-tbilisi-/ML_Assignment4/runs/op1fbc6g\n",
        "#40 epochs: https://wandb.ai/dimna21-free-university-of-tbilisi-/ML_Assignment4/runs/cyn9apy4\n",
        "#no improvement\n",
        "\n",
        "#Run without residual blocks, with augmented data and increased complexity: 2 extra conv layers and 4 FCs in head\n",
        "#40 epochs, 0.3 dropout: https://wandb.ai/dimna21-free-university-of-tbilisi-/ML_Assignment4/runs/ofsajdfh?nw=nwuserdimna21\n",
        "#40 epochs, 0.5 dropout: https://wandb.ai/dimna21-free-university-of-tbilisi-/ML_Assignment4/runs/itxksjhl"
      ],
      "metadata": {
        "id": "uO4c3zAB9Qm1"
      },
      "id": "uO4c3zAB9Qm1",
      "execution_count": 12,
      "outputs": []
    },
    {
      "cell_type": "code",
      "source": [
        "import torch.nn as nn\n",
        "\n",
        "class ResidualBlock(nn.Module):\n",
        "    \"\"\"\n",
        "    A basic residual block with two 3x3 conv layers and an optional downsample.\n",
        "    \"\"\"\n",
        "    expansion = 1\n",
        "    def __init__(self, in_channels, out_channels, stride=1, dropout_p=0.0):\n",
        "        super().__init__()\n",
        "        self.conv1 = nn.Conv2d(in_channels, out_channels, kernel_size=3,\n",
        "                               stride=stride, padding=1, bias=False)\n",
        "        self.bn1 = nn.BatchNorm2d(out_channels)\n",
        "        self.relu = nn.ReLU(inplace=True)\n",
        "        self.conv2 = nn.Conv2d(out_channels, out_channels, kernel_size=3,\n",
        "                               stride=1, padding=1, bias=False)\n",
        "        self.bn2 = nn.BatchNorm2d(out_channels)\n",
        "        self.dropout = nn.Dropout2d(dropout_p) if dropout_p > 0 else nn.Identity()\n",
        "\n",
        "        # downsample path for matching dimensions\n",
        "        self.downsample = None\n",
        "        if stride != 1 or in_channels != out_channels:\n",
        "            self.downsample = nn.Sequential(\n",
        "                nn.Conv2d(in_channels, out_channels,\n",
        "                          kernel_size=1, stride=stride, bias=False),\n",
        "                nn.BatchNorm2d(out_channels)\n",
        "            )\n",
        "\n",
        "    def forward(self, x):\n",
        "        identity = x\n",
        "        out = self.conv1(x)\n",
        "        out = self.bn1(out)\n",
        "        out = self.relu(out)\n",
        "        out = self.conv2(out)\n",
        "        out = self.bn2(out)\n",
        "\n",
        "        if self.downsample is not None:\n",
        "            identity = self.downsample(x)\n",
        "\n",
        "        out += identity\n",
        "        out = self.relu(out)\n",
        "        out = self.dropout(out)\n",
        "        return out\n",
        "\n",
        "class GigaModel(nn.Module):\n",
        "    def __init__(self, dropout_p=0.3):\n",
        "        super().__init__()\n",
        "        # define ReLU for use in head\n",
        "        self.relu = nn.ReLU(inplace=True)\n",
        "        # initial conv to expand grayscale to 32 channels\n",
        "        self.conv1 = nn.Sequential(\n",
        "            nn.Conv2d(1, 32, kernel_size=3, padding=1, bias=False),\n",
        "            nn.BatchNorm2d(32),\n",
        "            nn.ReLU(inplace=True)\n",
        "        )\n",
        "        # residual layers: doubling channels and downsampling spatially at each stage\n",
        "        self.layer1 = ResidualBlock(32,  32, stride=1, dropout_p=dropout_p)\n",
        "        self.layer2 = ResidualBlock(32,  64, stride=2, dropout_p=dropout_p)\n",
        "        self.layer3 = ResidualBlock(64, 128, stride=2, dropout_p=dropout_p)\n",
        "        self.layer4 = ResidualBlock(128,256, stride=2, dropout_p=dropout_p)\n",
        "\n",
        "        self.avgpool = nn.AdaptiveAvgPool2d((1,1))\n",
        "\n",
        "        self.flatten = nn.Flatten()\n",
        "        self.fc1     = nn.Linear(256 * ResidualBlock.expansion, 512, bias=False)\n",
        "        self.bn_fc1  = nn.BatchNorm1d(512)\n",
        "        self.drop1   = nn.Dropout(dropout_p)\n",
        "        self.fc2     = nn.Linear(512, 256, bias=False)\n",
        "        self.bn_fc2  = nn.BatchNorm1d(256)\n",
        "        self.drop2   = nn.Dropout(dropout_p)\n",
        "        self.fc3     = nn.Linear(256, 128, bias=False)\n",
        "        self.bn_fc3  = nn.BatchNorm1d(128)\n",
        "        self.drop3   = nn.Dropout(dropout_p)\n",
        "        self.output  = nn.Linear(128, 7)\n",
        "\n",
        "    def forward(self, x):\n",
        "        # initial conv\n",
        "        x = self.conv1(x)\n",
        "        # residual conv backbone with downsamples\n",
        "        x = self.layer1(x)\n",
        "        x = self.layer2(x)\n",
        "        x = self.layer3(x)\n",
        "        x = self.layer4(x)\n",
        "        # head\n",
        "        x = self.avgpool(x)\n",
        "        x = self.flatten(x)\n",
        "        x = self.fc1(x)\n",
        "        x = self.bn_fc1(x)\n",
        "        x = self.relu(x)\n",
        "        x = self.drop1(x)\n",
        "        x = self.fc2(x)\n",
        "        x = self.bn_fc2(x)\n",
        "        x = self.relu(x)\n",
        "        x = self.drop2(x)\n",
        "        x = self.fc3(x)\n",
        "        x = self.bn_fc3(x)\n",
        "        x = self.relu(x)\n",
        "        x = self.drop3(x)\n",
        "        x = self.output(x)\n",
        "        return x\n",
        "\n",
        "#training pt1: https://wandb.ai/dimna21-free-university-of-tbilisi-/ML_Assignment4/runs/8a4wuiau?nw=nwuserdimna21\n",
        "#training pt2: https://wandb.ai/dimna21-free-university-of-tbilisi-/ML_Assignment4/runs/127aogq7"
      ],
      "metadata": {
        "id": "n_8-Y9auTR-3"
      },
      "id": "n_8-Y9auTR-3",
      "execution_count": null,
      "outputs": []
    },
    {
      "cell_type": "code",
      "source": [
        "improved_model = ImprovedModel().to(device)\n",
        "criterion = nn.CrossEntropyLoss()\n",
        "optimizer = torch.optim.Adam(improved_model.parameters(), lr=1e-3)\n",
        "trained = train_model(\n",
        "    improved_model,\n",
        "    train_dl,\n",
        "    val_dl,\n",
        "    criterion,\n",
        "    optimizer,\n",
        "    device,\n",
        "    epochs=40,\n",
        "    class_names=class_names\n",
        ")"
      ],
      "metadata": {
        "colab": {
          "base_uri": "https://localhost:8080/",
          "height": 1000
        },
        "id": "MTB0fu2A9XeJ",
        "outputId": "04cae51e-e530-45d1-b3cd-6f7b8b48488d"
      },
      "id": "MTB0fu2A9XeJ",
      "execution_count": 13,
      "outputs": [
        {
          "output_type": "display_data",
          "data": {
            "text/plain": [
              "<IPython.core.display.HTML object>"
            ],
            "text/html": [
              "Finishing previous runs because reinit is set to 'default'."
            ]
          },
          "metadata": {}
        },
        {
          "output_type": "display_data",
          "data": {
            "text/plain": [
              "<IPython.core.display.HTML object>"
            ],
            "text/html": []
          },
          "metadata": {}
        },
        {
          "output_type": "display_data",
          "data": {
            "text/plain": [
              "<IPython.core.display.HTML object>"
            ],
            "text/html": [
              "<br>    <style><br>        .wandb-row {<br>            display: flex;<br>            flex-direction: row;<br>            flex-wrap: wrap;<br>            justify-content: flex-start;<br>            width: 100%;<br>        }<br>        .wandb-col {<br>            display: flex;<br>            flex-direction: column;<br>            flex-basis: 100%;<br>            flex: 1;<br>            padding: 10px;<br>        }<br>    </style><br><div class=\"wandb-row\"><div class=\"wandb-col\"><h3>Run history:</h3><br/><table class=\"wandb\"><tr><td>f1_Angry</td><td>▁▂▄▅▅▆▆▇▇▇▆▇▇▇▇▇▇█████▇▇█▇███▇█▇████████</td></tr><tr><td>f1_Disgust</td><td>▁▃▃▄▄▅▅▅▇▇▇▇▇▇▆▇▇▇▇▇▇█▇▇▇▇█▇▇▇▇▇▇▇█▇▇▇▇▇</td></tr><tr><td>f1_Fear</td><td>▁▂▃▂▃▃▃▅▄▅▆▄▆▆▇▆▇▇▇▇▇▇▇█▇█▇█████████████</td></tr><tr><td>f1_Happy</td><td>▁▆▇▇▇███████████████████████████████████</td></tr><tr><td>f1_Neutral</td><td>▁▆▇▇▇▇▇▇█▇█▇████████████████████████████</td></tr><tr><td>f1_Sad</td><td>▃▂▂▃▁▂▄▄▄▅▅▅▅▅▅▅▆▅▇▆▇▆▆▇▇▆▇▆▇▇▇▇█▆▇▇▇█▇█</td></tr><tr><td>f1_Surprise</td><td>▁▃▅▅▆▆▇▇▇▇▇▇▇▇▇▇▇▇▇▇▇███▇▇▇█████████████</td></tr><tr><td>train_acc</td><td>▁▂▄▄▅▅▅▅▅▆▆▆▆▆▆▆▆▇▇▇▇▇▇▇▇▇▇▇▇▇▇█████████</td></tr><tr><td>train_loss</td><td>█▇▆▅▅▄▄▄▄▄▃▃▃▃▃▃▃▃▃▂▂▂▂▂▂▂▂▂▂▂▂▁▁▁▁▁▁▁▁▁</td></tr><tr><td>val_acc</td><td>▁▅▆▆▆▆▇▇▇▇▇▇▇▇▇▇▇▇██████████████████████</td></tr><tr><td>val_loss</td><td>█▅▃▂▂▂▂▂▁▁▁▁▁▁▁▁▁▁▁▁▁▁▁▁▁▁▂▂▂▂▂▂▂▂▂▂▂▂▂▂</td></tr></table><br/></div><div class=\"wandb-col\"><h3>Run summary:</h3><br/><table class=\"wandb\"><tr><td>f1_Angry</td><td>0.51735</td></tr><tr><td>f1_Disgust</td><td>0.56489</td></tr><tr><td>f1_Fear</td><td>0.41069</td></tr><tr><td>f1_Happy</td><td>0.79188</td></tr><tr><td>f1_Neutral</td><td>0.5423</td></tr><tr><td>f1_Sad</td><td>0.49021</td></tr><tr><td>f1_Surprise</td><td>0.77396</td></tr><tr><td>train_acc</td><td>0.82422</td></tr><tr><td>train_loss</td><td>0.51021</td></tr><tr><td>val_acc</td><td>0.60156</td></tr><tr><td>val_loss</td><td>1.31461</td></tr></table><br/></div></div>"
            ]
          },
          "metadata": {}
        },
        {
          "output_type": "display_data",
          "data": {
            "text/plain": [
              "<IPython.core.display.HTML object>"
            ],
            "text/html": [
              " View run <strong style=\"color:#cdcd00\">gallant-leaf-25</strong> at: <a href='https://wandb.ai/dimna21-free-university-of-tbilisi-/ML_Assignment4/runs/ofsajdfh' target=\"_blank\">https://wandb.ai/dimna21-free-university-of-tbilisi-/ML_Assignment4/runs/ofsajdfh</a><br> View project at: <a href='https://wandb.ai/dimna21-free-university-of-tbilisi-/ML_Assignment4' target=\"_blank\">https://wandb.ai/dimna21-free-university-of-tbilisi-/ML_Assignment4</a><br>Synced 5 W&B file(s), 42 media file(s), 0 artifact file(s) and 0 other file(s)"
            ]
          },
          "metadata": {}
        },
        {
          "output_type": "display_data",
          "data": {
            "text/plain": [
              "<IPython.core.display.HTML object>"
            ],
            "text/html": [
              "Find logs at: <code>./wandb/run-20250530_083811-ofsajdfh/logs</code>"
            ]
          },
          "metadata": {}
        },
        {
          "output_type": "display_data",
          "data": {
            "text/plain": [
              "<IPython.core.display.HTML object>"
            ],
            "text/html": [
              "Tracking run with wandb version 0.19.11"
            ]
          },
          "metadata": {}
        },
        {
          "output_type": "display_data",
          "data": {
            "text/plain": [
              "<IPython.core.display.HTML object>"
            ],
            "text/html": [
              "Run data is saved locally in <code>/content/wandb/run-20250530_085330-itxksjhl</code>"
            ]
          },
          "metadata": {}
        },
        {
          "output_type": "display_data",
          "data": {
            "text/plain": [
              "<IPython.core.display.HTML object>"
            ],
            "text/html": [
              "Syncing run <strong><a href='https://wandb.ai/dimna21-free-university-of-tbilisi-/ML_Assignment4/runs/itxksjhl' target=\"_blank\">major-dragon-26</a></strong> to <a href='https://wandb.ai/dimna21-free-university-of-tbilisi-/ML_Assignment4' target=\"_blank\">Weights & Biases</a> (<a href='https://wandb.me/developer-guide' target=\"_blank\">docs</a>)<br>"
            ]
          },
          "metadata": {}
        },
        {
          "output_type": "display_data",
          "data": {
            "text/plain": [
              "<IPython.core.display.HTML object>"
            ],
            "text/html": [
              " View project at <a href='https://wandb.ai/dimna21-free-university-of-tbilisi-/ML_Assignment4' target=\"_blank\">https://wandb.ai/dimna21-free-university-of-tbilisi-/ML_Assignment4</a>"
            ]
          },
          "metadata": {}
        },
        {
          "output_type": "display_data",
          "data": {
            "text/plain": [
              "<IPython.core.display.HTML object>"
            ],
            "text/html": [
              " View run at <a href='https://wandb.ai/dimna21-free-university-of-tbilisi-/ML_Assignment4/runs/itxksjhl' target=\"_blank\">https://wandb.ai/dimna21-free-university-of-tbilisi-/ML_Assignment4/runs/itxksjhl</a>"
            ]
          },
          "metadata": {}
        },
        {
          "output_type": "stream",
          "name": "stderr",
          "text": [
            "Epoch 1 [Train]: 100%|██████████| 395/395 [00:11<00:00, 34.29it/s]\n",
            "Epoch 1 [Val]: 100%|██████████| 29/29 [00:00<00:00, 37.57it/s]\n"
          ]
        },
        {
          "output_type": "stream",
          "name": "stdout",
          "text": [
            "Epoch 1/40 — Train Loss: 1.9626, Train Acc: 0.1572  |  Val Loss: 1.9187, Val Acc: 0.1956\n",
            "------------------------------------------------------------\n"
          ]
        },
        {
          "output_type": "stream",
          "name": "stderr",
          "text": [
            "Epoch 2 [Train]: 100%|██████████| 395/395 [00:13<00:00, 29.15it/s]\n",
            "Epoch 2 [Val]: 100%|██████████| 29/29 [00:01<00:00, 28.85it/s]\n"
          ]
        },
        {
          "output_type": "stream",
          "name": "stdout",
          "text": [
            "Epoch 2/40 — Train Loss: 1.9336, Train Acc: 0.1770  |  Val Loss: 1.9011, Val Acc: 0.2251\n",
            "------------------------------------------------------------\n"
          ]
        },
        {
          "output_type": "stream",
          "name": "stderr",
          "text": [
            "Epoch 3 [Train]: 100%|██████████| 395/395 [00:14<00:00, 27.71it/s]\n",
            "Epoch 3 [Val]: 100%|██████████| 29/29 [00:00<00:00, 50.30it/s]\n"
          ]
        },
        {
          "output_type": "stream",
          "name": "stdout",
          "text": [
            "Epoch 3/40 — Train Loss: 1.9281, Train Acc: 0.1852  |  Val Loss: 1.9011, Val Acc: 0.2090\n",
            "------------------------------------------------------------\n"
          ]
        },
        {
          "output_type": "stream",
          "name": "stderr",
          "text": [
            "Epoch 4 [Train]: 100%|██████████| 395/395 [00:11<00:00, 33.44it/s]\n",
            "Epoch 4 [Val]: 100%|██████████| 29/29 [00:00<00:00, 51.71it/s]\n"
          ]
        },
        {
          "output_type": "stream",
          "name": "stdout",
          "text": [
            "Epoch 4/40 — Train Loss: 1.9233, Train Acc: 0.1870  |  Val Loss: 1.9031, Val Acc: 0.1672\n",
            "------------------------------------------------------------\n"
          ]
        },
        {
          "output_type": "stream",
          "name": "stderr",
          "text": [
            "Epoch 5 [Train]: 100%|██████████| 395/395 [00:12<00:00, 31.26it/s]\n",
            "Epoch 5 [Val]: 100%|██████████| 29/29 [00:01<00:00, 20.69it/s]\n"
          ]
        },
        {
          "output_type": "stream",
          "name": "stdout",
          "text": [
            "Epoch 5/40 — Train Loss: 1.9177, Train Acc: 0.1941  |  Val Loss: 1.8829, Val Acc: 0.2555\n",
            "------------------------------------------------------------\n"
          ]
        },
        {
          "output_type": "stream",
          "name": "stderr",
          "text": [
            "Epoch 6 [Train]: 100%|██████████| 395/395 [00:10<00:00, 38.31it/s]\n",
            "Epoch 6 [Val]: 100%|██████████| 29/29 [00:00<00:00, 34.20it/s]\n"
          ]
        },
        {
          "output_type": "stream",
          "name": "stdout",
          "text": [
            "Epoch 6/40 — Train Loss: 1.8734, Train Acc: 0.2154  |  Val Loss: 1.8087, Val Acc: 0.1254\n",
            "------------------------------------------------------------\n"
          ]
        },
        {
          "output_type": "stream",
          "name": "stderr",
          "text": [
            "Epoch 7 [Train]: 100%|██████████| 395/395 [00:11<00:00, 34.32it/s]\n",
            "Epoch 7 [Val]: 100%|██████████| 29/29 [00:00<00:00, 51.45it/s]\n"
          ]
        },
        {
          "output_type": "stream",
          "name": "stdout",
          "text": [
            "Epoch 7/40 — Train Loss: 1.7830, Train Acc: 0.2721  |  Val Loss: 1.7457, Val Acc: 0.2388\n",
            "------------------------------------------------------------\n"
          ]
        },
        {
          "output_type": "stream",
          "name": "stderr",
          "text": [
            "Epoch 8 [Train]: 100%|██████████| 395/395 [00:11<00:00, 33.43it/s]\n",
            "Epoch 8 [Val]: 100%|██████████| 29/29 [00:00<00:00, 52.90it/s]\n"
          ]
        },
        {
          "output_type": "stream",
          "name": "stdout",
          "text": [
            "Epoch 8/40 — Train Loss: 1.7037, Train Acc: 0.3184  |  Val Loss: 1.7152, Val Acc: 0.2875\n",
            "------------------------------------------------------------\n"
          ]
        },
        {
          "output_type": "stream",
          "name": "stderr",
          "text": [
            "Epoch 9 [Train]: 100%|██████████| 395/395 [00:11<00:00, 33.20it/s]\n",
            "Epoch 9 [Val]: 100%|██████████| 29/29 [00:00<00:00, 38.86it/s]\n"
          ]
        },
        {
          "output_type": "stream",
          "name": "stdout",
          "text": [
            "Epoch 9/40 — Train Loss: 1.6460, Train Acc: 0.3525  |  Val Loss: 1.6577, Val Acc: 0.3555\n",
            "------------------------------------------------------------\n"
          ]
        },
        {
          "output_type": "stream",
          "name": "stderr",
          "text": [
            "Epoch 10 [Train]: 100%|██████████| 395/395 [00:12<00:00, 32.10it/s]\n",
            "Epoch 10 [Val]: 100%|██████████| 29/29 [00:00<00:00, 51.28it/s]\n"
          ]
        },
        {
          "output_type": "stream",
          "name": "stdout",
          "text": [
            "Epoch 10/40 — Train Loss: 1.5904, Train Acc: 0.3823  |  Val Loss: 1.5283, Val Acc: 0.4154\n",
            "------------------------------------------------------------\n"
          ]
        },
        {
          "output_type": "stream",
          "name": "stderr",
          "text": [
            "Epoch 11 [Train]: 100%|██████████| 395/395 [00:11<00:00, 33.66it/s]\n",
            "Epoch 11 [Val]: 100%|██████████| 29/29 [00:00<00:00, 50.67it/s]\n"
          ]
        },
        {
          "output_type": "stream",
          "name": "stdout",
          "text": [
            "Epoch 11/40 — Train Loss: 1.5324, Train Acc: 0.4092  |  Val Loss: 1.4888, Val Acc: 0.4288\n",
            "------------------------------------------------------------\n"
          ]
        },
        {
          "output_type": "stream",
          "name": "stderr",
          "text": [
            "Epoch 12 [Train]: 100%|██████████| 395/395 [00:10<00:00, 36.95it/s]\n",
            "Epoch 12 [Val]: 100%|██████████| 29/29 [00:00<00:00, 30.60it/s]\n"
          ]
        },
        {
          "output_type": "stream",
          "name": "stdout",
          "text": [
            "Epoch 12/40 — Train Loss: 1.4810, Train Acc: 0.4279  |  Val Loss: 1.4728, Val Acc: 0.4478\n",
            "------------------------------------------------------------\n"
          ]
        },
        {
          "output_type": "stream",
          "name": "stderr",
          "text": [
            "Epoch 13 [Train]: 100%|██████████| 395/395 [00:10<00:00, 36.32it/s]\n",
            "Epoch 13 [Val]: 100%|██████████| 29/29 [00:00<00:00, 41.24it/s]\n"
          ]
        },
        {
          "output_type": "stream",
          "name": "stdout",
          "text": [
            "Epoch 13/40 — Train Loss: 1.4390, Train Acc: 0.4436  |  Val Loss: 1.4145, Val Acc: 0.4556\n",
            "------------------------------------------------------------\n"
          ]
        },
        {
          "output_type": "stream",
          "name": "stderr",
          "text": [
            "Epoch 14 [Train]: 100%|██████████| 395/395 [00:11<00:00, 33.62it/s]\n",
            "Epoch 14 [Val]: 100%|██████████| 29/29 [00:00<00:00, 53.87it/s]\n"
          ]
        },
        {
          "output_type": "stream",
          "name": "stdout",
          "text": [
            "Epoch 14/40 — Train Loss: 1.4043, Train Acc: 0.4600  |  Val Loss: 1.4139, Val Acc: 0.4639\n",
            "------------------------------------------------------------\n"
          ]
        },
        {
          "output_type": "stream",
          "name": "stderr",
          "text": [
            "Epoch 15 [Train]: 100%|██████████| 395/395 [00:11<00:00, 33.31it/s]\n",
            "Epoch 15 [Val]: 100%|██████████| 29/29 [00:00<00:00, 54.39it/s]\n"
          ]
        },
        {
          "output_type": "stream",
          "name": "stdout",
          "text": [
            "Epoch 15/40 — Train Loss: 1.3762, Train Acc: 0.4665  |  Val Loss: 1.3976, Val Acc: 0.4689\n",
            "------------------------------------------------------------\n"
          ]
        },
        {
          "output_type": "stream",
          "name": "stderr",
          "text": [
            "Epoch 16 [Train]: 100%|██████████| 395/395 [00:12<00:00, 32.03it/s]\n",
            "Epoch 16 [Val]: 100%|██████████| 29/29 [00:01<00:00, 21.16it/s]\n"
          ]
        },
        {
          "output_type": "stream",
          "name": "stdout",
          "text": [
            "Epoch 16/40 — Train Loss: 1.3470, Train Acc: 0.4805  |  Val Loss: 1.3598, Val Acc: 0.4684\n",
            "------------------------------------------------------------\n"
          ]
        },
        {
          "output_type": "stream",
          "name": "stderr",
          "text": [
            "Epoch 17 [Train]: 100%|██████████| 395/395 [00:11<00:00, 33.03it/s]\n",
            "Epoch 17 [Val]: 100%|██████████| 29/29 [00:00<00:00, 41.03it/s]\n"
          ]
        },
        {
          "output_type": "stream",
          "name": "stdout",
          "text": [
            "Epoch 17/40 — Train Loss: 1.3273, Train Acc: 0.4861  |  Val Loss: 1.3508, Val Acc: 0.4804\n",
            "------------------------------------------------------------\n"
          ]
        },
        {
          "output_type": "stream",
          "name": "stderr",
          "text": [
            "Epoch 18 [Train]: 100%|██████████| 395/395 [00:11<00:00, 33.56it/s]\n",
            "Epoch 18 [Val]: 100%|██████████| 29/29 [00:00<00:00, 52.44it/s]\n"
          ]
        },
        {
          "output_type": "stream",
          "name": "stdout",
          "text": [
            "Epoch 18/40 — Train Loss: 1.3067, Train Acc: 0.4961  |  Val Loss: 1.3328, Val Acc: 0.4826\n",
            "------------------------------------------------------------\n"
          ]
        },
        {
          "output_type": "stream",
          "name": "stderr",
          "text": [
            "Epoch 19 [Train]: 100%|██████████| 395/395 [00:11<00:00, 34.50it/s]\n",
            "Epoch 19 [Val]: 100%|██████████| 29/29 [00:00<00:00, 31.03it/s]\n"
          ]
        },
        {
          "output_type": "stream",
          "name": "stdout",
          "text": [
            "Epoch 19/40 — Train Loss: 1.2950, Train Acc: 0.4969  |  Val Loss: 1.3287, Val Acc: 0.4923\n",
            "------------------------------------------------------------\n"
          ]
        },
        {
          "output_type": "stream",
          "name": "stderr",
          "text": [
            "Epoch 20 [Train]: 100%|██████████| 395/395 [00:10<00:00, 37.35it/s]\n",
            "Epoch 20 [Val]: 100%|██████████| 29/29 [00:00<00:00, 51.52it/s]\n"
          ]
        },
        {
          "output_type": "stream",
          "name": "stdout",
          "text": [
            "Epoch 20/40 — Train Loss: 1.2769, Train Acc: 0.5064  |  Val Loss: 1.3314, Val Acc: 0.4765\n",
            "------------------------------------------------------------\n"
          ]
        },
        {
          "output_type": "stream",
          "name": "stderr",
          "text": [
            "Epoch 21 [Train]: 100%|██████████| 395/395 [00:11<00:00, 34.16it/s]\n",
            "Epoch 21 [Val]: 100%|██████████| 29/29 [00:00<00:00, 41.72it/s]\n"
          ]
        },
        {
          "output_type": "stream",
          "name": "stdout",
          "text": [
            "Epoch 21/40 — Train Loss: 1.2614, Train Acc: 0.5124  |  Val Loss: 1.3024, Val Acc: 0.4926\n",
            "------------------------------------------------------------\n"
          ]
        },
        {
          "output_type": "stream",
          "name": "stderr",
          "text": [
            "Epoch 22 [Train]: 100%|██████████| 395/395 [00:11<00:00, 33.73it/s]\n",
            "Epoch 22 [Val]: 100%|██████████| 29/29 [00:00<00:00, 40.14it/s]\n"
          ]
        },
        {
          "output_type": "stream",
          "name": "stdout",
          "text": [
            "Epoch 22/40 — Train Loss: 1.2530, Train Acc: 0.5116  |  Val Loss: 1.2937, Val Acc: 0.4996\n",
            "------------------------------------------------------------\n"
          ]
        },
        {
          "output_type": "stream",
          "name": "stderr",
          "text": [
            "Epoch 23 [Train]: 100%|██████████| 395/395 [00:11<00:00, 33.50it/s]\n",
            "Epoch 23 [Val]: 100%|██████████| 29/29 [00:00<00:00, 51.71it/s]\n"
          ]
        },
        {
          "output_type": "stream",
          "name": "stdout",
          "text": [
            "Epoch 23/40 — Train Loss: 1.2396, Train Acc: 0.5192  |  Val Loss: 1.2946, Val Acc: 0.4935\n",
            "------------------------------------------------------------\n"
          ]
        },
        {
          "output_type": "stream",
          "name": "stderr",
          "text": [
            "Epoch 24 [Train]: 100%|██████████| 395/395 [00:14<00:00, 27.89it/s]\n",
            "Epoch 24 [Val]: 100%|██████████| 29/29 [00:00<00:00, 40.60it/s]\n"
          ]
        },
        {
          "output_type": "stream",
          "name": "stdout",
          "text": [
            "Epoch 24/40 — Train Loss: 1.2392, Train Acc: 0.5186  |  Val Loss: 1.2938, Val Acc: 0.4993\n",
            "------------------------------------------------------------\n"
          ]
        },
        {
          "output_type": "stream",
          "name": "stderr",
          "text": [
            "Epoch 25 [Train]: 100%|██████████| 395/395 [00:11<00:00, 35.48it/s]\n",
            "Epoch 25 [Val]: 100%|██████████| 29/29 [00:01<00:00, 24.56it/s]\n"
          ]
        },
        {
          "output_type": "stream",
          "name": "stdout",
          "text": [
            "Epoch 25/40 — Train Loss: 1.2206, Train Acc: 0.5272  |  Val Loss: 1.2907, Val Acc: 0.4976\n",
            "------------------------------------------------------------\n"
          ]
        },
        {
          "output_type": "stream",
          "name": "stderr",
          "text": [
            "Epoch 26 [Train]: 100%|██████████| 395/395 [00:10<00:00, 38.51it/s]\n",
            "Epoch 26 [Val]: 100%|██████████| 29/29 [00:01<00:00, 28.26it/s]\n"
          ]
        },
        {
          "output_type": "stream",
          "name": "stdout",
          "text": [
            "Epoch 26/40 — Train Loss: 1.2117, Train Acc: 0.5290  |  Val Loss: 1.2746, Val Acc: 0.5088\n",
            "------------------------------------------------------------\n"
          ]
        },
        {
          "output_type": "stream",
          "name": "stderr",
          "text": [
            "Epoch 27 [Train]: 100%|██████████| 395/395 [00:12<00:00, 32.66it/s]\n",
            "Epoch 27 [Val]: 100%|██████████| 29/29 [00:00<00:00, 53.65it/s]\n"
          ]
        },
        {
          "output_type": "stream",
          "name": "stdout",
          "text": [
            "Epoch 27/40 — Train Loss: 1.2082, Train Acc: 0.5295  |  Val Loss: 1.2668, Val Acc: 0.5052\n",
            "------------------------------------------------------------\n"
          ]
        },
        {
          "output_type": "stream",
          "name": "stderr",
          "text": [
            "Epoch 28 [Train]: 100%|██████████| 395/395 [00:12<00:00, 31.47it/s]\n",
            "Epoch 28 [Val]: 100%|██████████| 29/29 [00:00<00:00, 51.77it/s]\n"
          ]
        },
        {
          "output_type": "stream",
          "name": "stdout",
          "text": [
            "Epoch 28/40 — Train Loss: 1.1938, Train Acc: 0.5371  |  Val Loss: 1.2757, Val Acc: 0.5104\n",
            "------------------------------------------------------------\n"
          ]
        },
        {
          "output_type": "stream",
          "name": "stderr",
          "text": [
            "Epoch 29 [Train]: 100%|██████████| 395/395 [00:11<00:00, 33.21it/s]\n",
            "Epoch 29 [Val]: 100%|██████████| 29/29 [00:00<00:00, 51.52it/s]\n"
          ]
        },
        {
          "output_type": "stream",
          "name": "stdout",
          "text": [
            "Epoch 29/40 — Train Loss: 1.1888, Train Acc: 0.5391  |  Val Loss: 1.2657, Val Acc: 0.5160\n",
            "------------------------------------------------------------\n"
          ]
        },
        {
          "output_type": "stream",
          "name": "stderr",
          "text": [
            "Epoch 30 [Train]: 100%|██████████| 395/395 [00:11<00:00, 33.42it/s]\n",
            "Epoch 30 [Val]: 100%|██████████| 29/29 [00:00<00:00, 40.96it/s]\n"
          ]
        },
        {
          "output_type": "stream",
          "name": "stdout",
          "text": [
            "Epoch 30/40 — Train Loss: 1.1820, Train Acc: 0.5399  |  Val Loss: 1.2652, Val Acc: 0.5096\n",
            "------------------------------------------------------------\n"
          ]
        },
        {
          "output_type": "stream",
          "name": "stderr",
          "text": [
            "Epoch 31 [Train]: 100%|██████████| 395/395 [00:11<00:00, 33.17it/s]\n",
            "Epoch 31 [Val]: 100%|██████████| 29/29 [00:00<00:00, 52.07it/s]\n"
          ]
        },
        {
          "output_type": "stream",
          "name": "stdout",
          "text": [
            "Epoch 31/40 — Train Loss: 1.1714, Train Acc: 0.5446  |  Val Loss: 1.2629, Val Acc: 0.5171\n",
            "------------------------------------------------------------\n"
          ]
        },
        {
          "output_type": "stream",
          "name": "stderr",
          "text": [
            "Epoch 32 [Train]: 100%|██████████| 395/395 [00:10<00:00, 36.18it/s]\n",
            "Epoch 32 [Val]: 100%|██████████| 29/29 [00:00<00:00, 29.86it/s]\n"
          ]
        },
        {
          "output_type": "stream",
          "name": "stdout",
          "text": [
            "Epoch 32/40 — Train Loss: 1.1691, Train Acc: 0.5456  |  Val Loss: 1.2500, Val Acc: 0.5188\n",
            "------------------------------------------------------------\n"
          ]
        },
        {
          "output_type": "stream",
          "name": "stderr",
          "text": [
            "Epoch 33 [Train]: 100%|██████████| 395/395 [00:10<00:00, 36.86it/s]\n",
            "Epoch 33 [Val]: 100%|██████████| 29/29 [00:00<00:00, 53.74it/s]\n"
          ]
        },
        {
          "output_type": "stream",
          "name": "stdout",
          "text": [
            "Epoch 33/40 — Train Loss: 1.1711, Train Acc: 0.5428  |  Val Loss: 1.2620, Val Acc: 0.5116\n",
            "------------------------------------------------------------\n"
          ]
        },
        {
          "output_type": "stream",
          "name": "stderr",
          "text": [
            "Epoch 34 [Train]: 100%|██████████| 395/395 [00:11<00:00, 33.13it/s]\n",
            "Epoch 34 [Val]: 100%|██████████| 29/29 [00:00<00:00, 39.99it/s]\n"
          ]
        },
        {
          "output_type": "stream",
          "name": "stdout",
          "text": [
            "Epoch 34/40 — Train Loss: 1.1587, Train Acc: 0.5490  |  Val Loss: 1.2587, Val Acc: 0.5163\n",
            "------------------------------------------------------------\n"
          ]
        },
        {
          "output_type": "stream",
          "name": "stderr",
          "text": [
            "Epoch 35 [Train]: 100%|██████████| 395/395 [00:11<00:00, 33.27it/s]\n",
            "Epoch 35 [Val]: 100%|██████████| 29/29 [00:00<00:00, 51.20it/s]\n"
          ]
        },
        {
          "output_type": "stream",
          "name": "stdout",
          "text": [
            "Epoch 35/40 — Train Loss: 1.1471, Train Acc: 0.5535  |  Val Loss: 1.2463, Val Acc: 0.5180\n",
            "------------------------------------------------------------\n"
          ]
        },
        {
          "output_type": "stream",
          "name": "stderr",
          "text": [
            "Epoch 36 [Train]: 100%|██████████| 395/395 [00:11<00:00, 32.93it/s]\n",
            "Epoch 36 [Val]: 100%|██████████| 29/29 [00:00<00:00, 51.72it/s]\n"
          ]
        },
        {
          "output_type": "stream",
          "name": "stdout",
          "text": [
            "Epoch 36/40 — Train Loss: 1.1472, Train Acc: 0.5539  |  Val Loss: 1.2495, Val Acc: 0.5177\n",
            "------------------------------------------------------------\n"
          ]
        },
        {
          "output_type": "stream",
          "name": "stderr",
          "text": [
            "Epoch 37 [Train]: 100%|██████████| 395/395 [00:11<00:00, 33.08it/s]\n",
            "Epoch 37 [Val]: 100%|██████████| 29/29 [00:00<00:00, 52.34it/s]\n"
          ]
        },
        {
          "output_type": "stream",
          "name": "stdout",
          "text": [
            "Epoch 37/40 — Train Loss: 1.1445, Train Acc: 0.5560  |  Val Loss: 1.2519, Val Acc: 0.5213\n",
            "------------------------------------------------------------\n"
          ]
        },
        {
          "output_type": "stream",
          "name": "stderr",
          "text": [
            "Epoch 38 [Train]: 100%|██████████| 395/395 [00:11<00:00, 33.50it/s]\n",
            "Epoch 38 [Val]: 100%|██████████| 29/29 [00:00<00:00, 39.96it/s]\n"
          ]
        },
        {
          "output_type": "stream",
          "name": "stdout",
          "text": [
            "Epoch 38/40 — Train Loss: 1.1388, Train Acc: 0.5580  |  Val Loss: 1.2461, Val Acc: 0.5247\n",
            "------------------------------------------------------------\n"
          ]
        },
        {
          "output_type": "stream",
          "name": "stderr",
          "text": [
            "Epoch 39 [Train]: 100%|██████████| 395/395 [00:11<00:00, 35.74it/s]\n",
            "Epoch 39 [Val]: 100%|██████████| 29/29 [00:00<00:00, 29.68it/s]\n"
          ]
        },
        {
          "output_type": "stream",
          "name": "stdout",
          "text": [
            "Epoch 39/40 — Train Loss: 1.1293, Train Acc: 0.5600  |  Val Loss: 1.2440, Val Acc: 0.5283\n",
            "------------------------------------------------------------\n"
          ]
        },
        {
          "output_type": "stream",
          "name": "stderr",
          "text": [
            "Epoch 40 [Train]: 100%|██████████| 395/395 [00:10<00:00, 36.80it/s]\n",
            "Epoch 40 [Val]: 100%|██████████| 29/29 [00:00<00:00, 48.62it/s]\n"
          ]
        },
        {
          "output_type": "stream",
          "name": "stdout",
          "text": [
            "Epoch 40/40 — Train Loss: 1.1246, Train Acc: 0.5632  |  Val Loss: 1.2518, Val Acc: 0.5255\n",
            "------------------------------------------------------------\n"
          ]
        }
      ]
    },
    {
      "cell_type": "code",
      "source": [
        "torch.save(improved_model.state_dict(), \"checkpoint40.pth\")"
      ],
      "metadata": {
        "id": "8x2Z4cnOnrPz"
      },
      "id": "8x2Z4cnOnrPz",
      "execution_count": null,
      "outputs": []
    },
    {
      "cell_type": "code",
      "source": [
        "improved_model = GigaModel().to(device)\n",
        "improved_model.load_state_dict(torch.load(\"checkpoint40.pth\"))\n"
      ],
      "metadata": {
        "colab": {
          "base_uri": "https://localhost:8080/"
        },
        "id": "Hl33lPTonuPf",
        "outputId": "a93c1cc8-f636-440e-f75d-21656a14000a"
      },
      "id": "Hl33lPTonuPf",
      "execution_count": null,
      "outputs": [
        {
          "output_type": "execute_result",
          "data": {
            "text/plain": [
              "<All keys matched successfully>"
            ]
          },
          "metadata": {},
          "execution_count": 52
        }
      ]
    },
    {
      "cell_type": "code",
      "source": [
        "trained = train_model(\n",
        "    improved_model, train_dl, val_dl,\n",
        "    criterion, optimizer, device,\n",
        "    epochs=40,\n",
        "    class_names=class_names\n",
        ")"
      ],
      "metadata": {
        "colab": {
          "base_uri": "https://localhost:8080/",
          "height": 1000
        },
        "id": "PW-_WxgKnyf0",
        "outputId": "94c454da-0a86-4bc5-fcb1-fb11f827857d"
      },
      "id": "PW-_WxgKnyf0",
      "execution_count": null,
      "outputs": [
        {
          "output_type": "display_data",
          "data": {
            "text/plain": [
              "<IPython.core.display.HTML object>"
            ],
            "text/html": [
              "Finishing previous runs because reinit is set to 'default'."
            ]
          },
          "metadata": {}
        },
        {
          "output_type": "display_data",
          "data": {
            "text/plain": [
              "<IPython.core.display.HTML object>"
            ],
            "text/html": []
          },
          "metadata": {}
        },
        {
          "output_type": "display_data",
          "data": {
            "text/plain": [
              "<IPython.core.display.HTML object>"
            ],
            "text/html": [
              "<br>    <style><br>        .wandb-row {<br>            display: flex;<br>            flex-direction: row;<br>            flex-wrap: wrap;<br>            justify-content: flex-start;<br>            width: 100%;<br>        }<br>        .wandb-col {<br>            display: flex;<br>            flex-direction: column;<br>            flex-basis: 100%;<br>            flex: 1;<br>            padding: 10px;<br>        }<br>    </style><br><div class=\"wandb-row\"><div class=\"wandb-col\"><h3>Run history:</h3><br/><table class=\"wandb\"><tr><td>f1_Angry</td><td>▁▁▁▁▁▁▁▁▁▁▁▁▁▂▂▅▂▃▃▃▆▄▃▆▅▆▆▅▆▆▆▇▇▇█▇████</td></tr><tr><td>f1_Disgust</td><td>▁▁▁▁▁▁▁▁▁▁▁▁▁▁▁▁▁▁▁▁▁▁▁▁▁▁▁▁▁▁▁▁▁▁▁▁▁▁▁▁</td></tr><tr><td>f1_Fear</td><td>▁▂▂▂▂▂█▄▃█▂▃▆▃▄▄▂▅▄▅▅▅▃▄▄▃▃▅▄▆▆▆▆▆▆▆▇▆▆▆</td></tr><tr><td>f1_Happy</td><td>▂▂▂▂▃▃▁▄▄▅▆▆▇▆▇▇▆▆▇▇▇▆▇▇▇█▇▇▇▇██████████</td></tr><tr><td>f1_Neutral</td><td>▁▁▁▂▃▃▃▅▅▅▆▃▆▆▇▇▃▆▇▇▆▆▅▇▇▇▆▇▇▇██████████</td></tr><tr><td>f1_Sad</td><td>▂▃▁▂▃▂▄▃▅▅▆▇▇▆▆▆▇▆▇▅▇▇▇▇▇▇▇███▇▇████████</td></tr><tr><td>f1_Surprise</td><td>▃▁▁▄▆▇▄▇▅▇▇▇▇█▇█▇███▇█▇█████▇███████████</td></tr><tr><td>train_acc</td><td>▁▂▂▂▃▃▃▄▄▄▅▅▅▆▆▆▆▆▆▆▆▇▇▇▇▇▇▇▇▇▇▇▇███████</td></tr><tr><td>train_loss</td><td>█▇▇▇▇▆▆▆▅▅▄▄▄▃▃▃▃▃▃▃▃▃▂▂▂▂▂▂▂▂▂▂▂▁▁▁▁▁▁▁</td></tr><tr><td>val_acc</td><td>▂▂▂▂▃▃▁▄▄▅▅▅▆▆▆▆▅▆▆▆▇▇▆▇▇▇▇▇▇███████████</td></tr><tr><td>val_loss</td><td>▆▇▇▆▅▅█▄▅▄▃▃▃▃▃▃▃▂▃▃▂▂▃▂▂▂▂▂▂▁▁▁▁▁▁▁▁▁▁▁</td></tr></table><br/></div><div class=\"wandb-col\"><h3>Run summary:</h3><br/><table class=\"wandb\"><tr><td>f1_Angry</td><td>0.3198</td></tr><tr><td>f1_Disgust</td><td>0</td></tr><tr><td>f1_Fear</td><td>0.11076</td></tr><tr><td>f1_Happy</td><td>0.77668</td></tr><tr><td>f1_Neutral</td><td>0.50311</td></tr><tr><td>f1_Sad</td><td>0.47066</td></tr><tr><td>f1_Surprise</td><td>0.69486</td></tr><tr><td>train_acc</td><td>0.52283</td></tr><tr><td>train_loss</td><td>1.22974</td></tr><tr><td>val_acc</td><td>0.5294</td></tr><tr><td>val_loss</td><td>1.21393</td></tr></table><br/></div></div>"
            ]
          },
          "metadata": {}
        },
        {
          "output_type": "display_data",
          "data": {
            "text/plain": [
              "<IPython.core.display.HTML object>"
            ],
            "text/html": [
              " View run <strong style=\"color:#cdcd00\">earthy-valley-23</strong> at: <a href='https://wandb.ai/dimna21-free-university-of-tbilisi-/ML_Assignment4/runs/8a4wuiau' target=\"_blank\">https://wandb.ai/dimna21-free-university-of-tbilisi-/ML_Assignment4/runs/8a4wuiau</a><br> View project at: <a href='https://wandb.ai/dimna21-free-university-of-tbilisi-/ML_Assignment4' target=\"_blank\">https://wandb.ai/dimna21-free-university-of-tbilisi-/ML_Assignment4</a><br>Synced 5 W&B file(s), 42 media file(s), 0 artifact file(s) and 0 other file(s)"
            ]
          },
          "metadata": {}
        },
        {
          "output_type": "display_data",
          "data": {
            "text/plain": [
              "<IPython.core.display.HTML object>"
            ],
            "text/html": [
              "Find logs at: <code>./wandb/run-20250529_185356-8a4wuiau/logs</code>"
            ]
          },
          "metadata": {}
        },
        {
          "output_type": "display_data",
          "data": {
            "text/plain": [
              "<IPython.core.display.HTML object>"
            ],
            "text/html": [
              "Tracking run with wandb version 0.19.11"
            ]
          },
          "metadata": {}
        },
        {
          "output_type": "display_data",
          "data": {
            "text/plain": [
              "<IPython.core.display.HTML object>"
            ],
            "text/html": [
              "Run data is saved locally in <code>/content/wandb/run-20250529_195746-127aogq7</code>"
            ]
          },
          "metadata": {}
        },
        {
          "output_type": "display_data",
          "data": {
            "text/plain": [
              "<IPython.core.display.HTML object>"
            ],
            "text/html": [
              "Syncing run <strong><a href='https://wandb.ai/dimna21-free-university-of-tbilisi-/ML_Assignment4/runs/127aogq7' target=\"_blank\">logical-sea-24</a></strong> to <a href='https://wandb.ai/dimna21-free-university-of-tbilisi-/ML_Assignment4' target=\"_blank\">Weights & Biases</a> (<a href='https://wandb.me/developer-guide' target=\"_blank\">docs</a>)<br>"
            ]
          },
          "metadata": {}
        },
        {
          "output_type": "display_data",
          "data": {
            "text/plain": [
              "<IPython.core.display.HTML object>"
            ],
            "text/html": [
              " View project at <a href='https://wandb.ai/dimna21-free-university-of-tbilisi-/ML_Assignment4' target=\"_blank\">https://wandb.ai/dimna21-free-university-of-tbilisi-/ML_Assignment4</a>"
            ]
          },
          "metadata": {}
        },
        {
          "output_type": "display_data",
          "data": {
            "text/plain": [
              "<IPython.core.display.HTML object>"
            ],
            "text/html": [
              " View run at <a href='https://wandb.ai/dimna21-free-university-of-tbilisi-/ML_Assignment4/runs/127aogq7' target=\"_blank\">https://wandb.ai/dimna21-free-university-of-tbilisi-/ML_Assignment4/runs/127aogq7</a>"
            ]
          },
          "metadata": {}
        },
        {
          "output_type": "stream",
          "name": "stderr",
          "text": [
            "Epoch 1 [Train]: 100%|██████████| 225/225 [01:26<00:00,  2.59it/s]\n",
            "Epoch 1 [Val]: 100%|██████████| 29/29 [00:03<00:00,  7.39it/s]\n"
          ]
        },
        {
          "output_type": "stream",
          "name": "stdout",
          "text": [
            "Epoch 1/40 — Train Loss: 1.2203, Train Acc: 0.5256  |  Val Loss: 1.2049, Val Acc: 0.5313\n",
            "------------------------------------------------------------\n"
          ]
        },
        {
          "output_type": "stream",
          "name": "stderr",
          "text": [
            "Epoch 2 [Train]: 100%|██████████| 225/225 [01:28<00:00,  2.55it/s]\n",
            "Epoch 2 [Val]: 100%|██████████| 29/29 [00:03<00:00,  7.87it/s]\n"
          ]
        },
        {
          "output_type": "stream",
          "name": "stdout",
          "text": [
            "Epoch 2/40 — Train Loss: 1.2183, Train Acc: 0.5259  |  Val Loss: 1.2044, Val Acc: 0.5297\n",
            "------------------------------------------------------------\n"
          ]
        },
        {
          "output_type": "stream",
          "name": "stderr",
          "text": [
            "Epoch 3 [Train]: 100%|██████████| 225/225 [01:29<00:00,  2.51it/s]\n",
            "Epoch 3 [Val]: 100%|██████████| 29/29 [00:03<00:00,  7.44it/s]\n"
          ]
        },
        {
          "output_type": "stream",
          "name": "stdout",
          "text": [
            "Epoch 3/40 — Train Loss: 1.2160, Train Acc: 0.5263  |  Val Loss: 1.2035, Val Acc: 0.5300\n",
            "------------------------------------------------------------\n"
          ]
        },
        {
          "output_type": "stream",
          "name": "stderr",
          "text": [
            "Epoch 4 [Train]: 100%|██████████| 225/225 [01:30<00:00,  2.50it/s]\n",
            "Epoch 4 [Val]: 100%|██████████| 29/29 [00:03<00:00,  7.79it/s]\n"
          ]
        },
        {
          "output_type": "stream",
          "name": "stdout",
          "text": [
            "Epoch 4/40 — Train Loss: 1.2168, Train Acc: 0.5275  |  Val Loss: 1.2046, Val Acc: 0.5308\n",
            "------------------------------------------------------------\n"
          ]
        },
        {
          "output_type": "stream",
          "name": "stderr",
          "text": [
            "Epoch 5 [Train]: 100%|██████████| 225/225 [01:30<00:00,  2.49it/s]\n",
            "Epoch 5 [Val]: 100%|██████████| 29/29 [00:03<00:00,  7.68it/s]\n"
          ]
        },
        {
          "output_type": "stream",
          "name": "stdout",
          "text": [
            "Epoch 5/40 — Train Loss: 1.2122, Train Acc: 0.5264  |  Val Loss: 1.2030, Val Acc: 0.5333\n",
            "------------------------------------------------------------\n"
          ]
        },
        {
          "output_type": "stream",
          "name": "stderr",
          "text": [
            "Epoch 6 [Train]: 100%|██████████| 225/225 [01:30<00:00,  2.49it/s]\n",
            "Epoch 6 [Val]: 100%|██████████| 29/29 [00:03<00:00,  7.84it/s]\n"
          ]
        },
        {
          "output_type": "stream",
          "name": "stdout",
          "text": [
            "Epoch 6/40 — Train Loss: 1.2172, Train Acc: 0.5233  |  Val Loss: 1.2049, Val Acc: 0.5316\n",
            "------------------------------------------------------------\n"
          ]
        },
        {
          "output_type": "stream",
          "name": "stderr",
          "text": [
            "Epoch 7 [Train]: 100%|██████████| 225/225 [01:30<00:00,  2.50it/s]\n",
            "Epoch 7 [Val]: 100%|██████████| 29/29 [00:03<00:00,  7.73it/s]\n"
          ]
        },
        {
          "output_type": "stream",
          "name": "stdout",
          "text": [
            "Epoch 7/40 — Train Loss: 1.2129, Train Acc: 0.5299  |  Val Loss: 1.2034, Val Acc: 0.5302\n",
            "------------------------------------------------------------\n"
          ]
        },
        {
          "output_type": "stream",
          "name": "stderr",
          "text": [
            "Epoch 8 [Train]: 100%|██████████| 225/225 [01:30<00:00,  2.50it/s]\n",
            "Epoch 8 [Val]: 100%|██████████| 29/29 [00:03<00:00,  7.95it/s]\n"
          ]
        },
        {
          "output_type": "stream",
          "name": "stdout",
          "text": [
            "Epoch 8/40 — Train Loss: 1.2109, Train Acc: 0.5294  |  Val Loss: 1.2037, Val Acc: 0.5283\n",
            "------------------------------------------------------------\n"
          ]
        },
        {
          "output_type": "stream",
          "name": "stderr",
          "text": [
            "Epoch 9 [Train]: 100%|██████████| 225/225 [01:30<00:00,  2.50it/s]\n",
            "Epoch 9 [Val]: 100%|██████████| 29/29 [00:03<00:00,  7.69it/s]\n"
          ]
        },
        {
          "output_type": "stream",
          "name": "stdout",
          "text": [
            "Epoch 9/40 — Train Loss: 1.2134, Train Acc: 0.5294  |  Val Loss: 1.2068, Val Acc: 0.5272\n",
            "------------------------------------------------------------\n"
          ]
        },
        {
          "output_type": "stream",
          "name": "stderr",
          "text": [
            "Epoch 10 [Train]: 100%|██████████| 225/225 [01:30<00:00,  2.49it/s]\n",
            "Epoch 10 [Val]: 100%|██████████| 29/29 [00:03<00:00,  7.66it/s]\n"
          ]
        },
        {
          "output_type": "stream",
          "name": "stdout",
          "text": [
            "Epoch 10/40 — Train Loss: 1.2156, Train Acc: 0.5277  |  Val Loss: 1.2055, Val Acc: 0.5325\n",
            "------------------------------------------------------------\n"
          ]
        },
        {
          "output_type": "stream",
          "name": "stderr",
          "text": [
            "Epoch 11 [Train]: 100%|██████████| 225/225 [01:30<00:00,  2.49it/s]\n",
            "Epoch 11 [Val]: 100%|██████████| 29/29 [00:03<00:00,  7.67it/s]\n"
          ]
        },
        {
          "output_type": "stream",
          "name": "stdout",
          "text": [
            "Epoch 11/40 — Train Loss: 1.2132, Train Acc: 0.5276  |  Val Loss: 1.2051, Val Acc: 0.5305\n",
            "------------------------------------------------------------\n"
          ]
        },
        {
          "output_type": "stream",
          "name": "stderr",
          "text": [
            "Epoch 12 [Train]: 100%|██████████| 225/225 [01:30<00:00,  2.49it/s]\n",
            "Epoch 12 [Val]: 100%|██████████| 29/29 [00:03<00:00,  7.92it/s]\n"
          ]
        },
        {
          "output_type": "stream",
          "name": "stdout",
          "text": [
            "Epoch 12/40 — Train Loss: 1.2083, Train Acc: 0.5318  |  Val Loss: 1.2028, Val Acc: 0.5322\n",
            "------------------------------------------------------------\n"
          ]
        },
        {
          "output_type": "stream",
          "name": "stderr",
          "text": [
            "Epoch 13 [Train]: 100%|██████████| 225/225 [01:30<00:00,  2.49it/s]\n",
            "Epoch 13 [Val]: 100%|██████████| 29/29 [00:03<00:00,  7.66it/s]\n"
          ]
        },
        {
          "output_type": "stream",
          "name": "stdout",
          "text": [
            "Epoch 13/40 — Train Loss: 1.2159, Train Acc: 0.5283  |  Val Loss: 1.2077, Val Acc: 0.5277\n",
            "------------------------------------------------------------\n"
          ]
        },
        {
          "output_type": "stream",
          "name": "stderr",
          "text": [
            "Epoch 14 [Train]:  77%|███████▋  | 174/225 [01:10<00:20,  2.47it/s]\n"
          ]
        },
        {
          "output_type": "error",
          "ename": "KeyboardInterrupt",
          "evalue": "",
          "traceback": [
            "\u001b[0;31m---------------------------------------------------------------------------\u001b[0m",
            "\u001b[0;31mKeyboardInterrupt\u001b[0m                         Traceback (most recent call last)",
            "\u001b[0;32m<ipython-input-53-a6fe98c7a402>\u001b[0m in \u001b[0;36m<cell line: 0>\u001b[0;34m()\u001b[0m\n\u001b[0;32m----> 1\u001b[0;31m trained = train_model(\n\u001b[0m\u001b[1;32m      2\u001b[0m     \u001b[0mimproved_model\u001b[0m\u001b[0;34m,\u001b[0m \u001b[0mtrain_dl\u001b[0m\u001b[0;34m,\u001b[0m \u001b[0mval_dl\u001b[0m\u001b[0;34m,\u001b[0m\u001b[0;34m\u001b[0m\u001b[0;34m\u001b[0m\u001b[0m\n\u001b[1;32m      3\u001b[0m     \u001b[0mcriterion\u001b[0m\u001b[0;34m,\u001b[0m \u001b[0moptimizer\u001b[0m\u001b[0;34m,\u001b[0m \u001b[0mdevice\u001b[0m\u001b[0;34m,\u001b[0m\u001b[0;34m\u001b[0m\u001b[0;34m\u001b[0m\u001b[0m\n\u001b[1;32m      4\u001b[0m     \u001b[0mepochs\u001b[0m\u001b[0;34m=\u001b[0m\u001b[0;36m40\u001b[0m\u001b[0;34m,\u001b[0m\u001b[0;34m\u001b[0m\u001b[0;34m\u001b[0m\u001b[0m\n\u001b[1;32m      5\u001b[0m     \u001b[0mclass_names\u001b[0m\u001b[0;34m=\u001b[0m\u001b[0mclass_names\u001b[0m\u001b[0;34m\u001b[0m\u001b[0;34m\u001b[0m\u001b[0m\n",
            "\u001b[0;32m<ipython-input-9-18915cee27cf>\u001b[0m in \u001b[0;36mtrain_model\u001b[0;34m(model, train_loader, val_loader, criterion, optimizer, device, epochs, class_names)\u001b[0m\n\u001b[1;32m     36\u001b[0m             \u001b[0mout\u001b[0m \u001b[0;34m=\u001b[0m \u001b[0mmodel\u001b[0m\u001b[0;34m(\u001b[0m\u001b[0mX\u001b[0m\u001b[0;34m)\u001b[0m\u001b[0;34m\u001b[0m\u001b[0;34m\u001b[0m\u001b[0m\n\u001b[1;32m     37\u001b[0m             \u001b[0mloss\u001b[0m \u001b[0;34m=\u001b[0m \u001b[0mcriterion\u001b[0m\u001b[0;34m(\u001b[0m\u001b[0mout\u001b[0m\u001b[0;34m,\u001b[0m \u001b[0my\u001b[0m\u001b[0;34m)\u001b[0m\u001b[0;34m\u001b[0m\u001b[0;34m\u001b[0m\u001b[0m\n\u001b[0;32m---> 38\u001b[0;31m             \u001b[0mloss\u001b[0m\u001b[0;34m.\u001b[0m\u001b[0mbackward\u001b[0m\u001b[0;34m(\u001b[0m\u001b[0;34m)\u001b[0m\u001b[0;34m\u001b[0m\u001b[0;34m\u001b[0m\u001b[0m\n\u001b[0m\u001b[1;32m     39\u001b[0m             \u001b[0moptimizer\u001b[0m\u001b[0;34m.\u001b[0m\u001b[0mstep\u001b[0m\u001b[0;34m(\u001b[0m\u001b[0;34m)\u001b[0m\u001b[0;34m\u001b[0m\u001b[0;34m\u001b[0m\u001b[0m\n\u001b[1;32m     40\u001b[0m \u001b[0;34m\u001b[0m\u001b[0m\n",
            "\u001b[0;32m/usr/local/lib/python3.11/dist-packages/torch/_tensor.py\u001b[0m in \u001b[0;36mbackward\u001b[0;34m(self, gradient, retain_graph, create_graph, inputs)\u001b[0m\n\u001b[1;32m    624\u001b[0m                 \u001b[0minputs\u001b[0m\u001b[0;34m=\u001b[0m\u001b[0minputs\u001b[0m\u001b[0;34m,\u001b[0m\u001b[0;34m\u001b[0m\u001b[0;34m\u001b[0m\u001b[0m\n\u001b[1;32m    625\u001b[0m             )\n\u001b[0;32m--> 626\u001b[0;31m         torch.autograd.backward(\n\u001b[0m\u001b[1;32m    627\u001b[0m             \u001b[0mself\u001b[0m\u001b[0;34m,\u001b[0m \u001b[0mgradient\u001b[0m\u001b[0;34m,\u001b[0m \u001b[0mretain_graph\u001b[0m\u001b[0;34m,\u001b[0m \u001b[0mcreate_graph\u001b[0m\u001b[0;34m,\u001b[0m \u001b[0minputs\u001b[0m\u001b[0;34m=\u001b[0m\u001b[0minputs\u001b[0m\u001b[0;34m\u001b[0m\u001b[0;34m\u001b[0m\u001b[0m\n\u001b[1;32m    628\u001b[0m         )\n",
            "\u001b[0;32m/usr/local/lib/python3.11/dist-packages/torch/autograd/__init__.py\u001b[0m in \u001b[0;36mbackward\u001b[0;34m(tensors, grad_tensors, retain_graph, create_graph, grad_variables, inputs)\u001b[0m\n\u001b[1;32m    345\u001b[0m     \u001b[0;31m# some Python versions print out the first line of a multi-line function\u001b[0m\u001b[0;34m\u001b[0m\u001b[0;34m\u001b[0m\u001b[0m\n\u001b[1;32m    346\u001b[0m     \u001b[0;31m# calls in the traceback and some print out the last line\u001b[0m\u001b[0;34m\u001b[0m\u001b[0;34m\u001b[0m\u001b[0m\n\u001b[0;32m--> 347\u001b[0;31m     _engine_run_backward(\n\u001b[0m\u001b[1;32m    348\u001b[0m         \u001b[0mtensors\u001b[0m\u001b[0;34m,\u001b[0m\u001b[0;34m\u001b[0m\u001b[0;34m\u001b[0m\u001b[0m\n\u001b[1;32m    349\u001b[0m         \u001b[0mgrad_tensors_\u001b[0m\u001b[0;34m,\u001b[0m\u001b[0;34m\u001b[0m\u001b[0;34m\u001b[0m\u001b[0m\n",
            "\u001b[0;32m/usr/local/lib/python3.11/dist-packages/torch/autograd/graph.py\u001b[0m in \u001b[0;36m_engine_run_backward\u001b[0;34m(t_outputs, *args, **kwargs)\u001b[0m\n\u001b[1;32m    821\u001b[0m         \u001b[0munregister_hooks\u001b[0m \u001b[0;34m=\u001b[0m \u001b[0m_register_logging_hooks_on_whole_graph\u001b[0m\u001b[0;34m(\u001b[0m\u001b[0mt_outputs\u001b[0m\u001b[0;34m)\u001b[0m\u001b[0;34m\u001b[0m\u001b[0;34m\u001b[0m\u001b[0m\n\u001b[1;32m    822\u001b[0m     \u001b[0;32mtry\u001b[0m\u001b[0;34m:\u001b[0m\u001b[0;34m\u001b[0m\u001b[0;34m\u001b[0m\u001b[0m\n\u001b[0;32m--> 823\u001b[0;31m         return Variable._execution_engine.run_backward(  # Calls into the C++ engine to run the backward pass\n\u001b[0m\u001b[1;32m    824\u001b[0m             \u001b[0mt_outputs\u001b[0m\u001b[0;34m,\u001b[0m \u001b[0;34m*\u001b[0m\u001b[0margs\u001b[0m\u001b[0;34m,\u001b[0m \u001b[0;34m**\u001b[0m\u001b[0mkwargs\u001b[0m\u001b[0;34m\u001b[0m\u001b[0;34m\u001b[0m\u001b[0m\n\u001b[1;32m    825\u001b[0m         )  # Calls into the C++ engine to run the backward pass\n",
            "\u001b[0;31mKeyboardInterrupt\u001b[0m: "
          ]
        }
      ]
    }
  ],
  "metadata": {
    "colab": {
      "provenance": [],
      "gpuType": "T4",
      "include_colab_link": true
    },
    "language_info": {
      "name": "python"
    },
    "kernelspec": {
      "name": "python3",
      "display_name": "Python 3"
    },
    "accelerator": "GPU"
  },
  "nbformat": 4,
  "nbformat_minor": 5
}